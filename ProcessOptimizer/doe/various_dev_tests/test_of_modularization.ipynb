{
 "cells": [
  {
   "cell_type": "markdown",
   "metadata": {},
   "source": [
    "# THIS NOTEBOOK IS TO TEST THAT THE MODULES WORK AS EXPECTED\n",
    "# WIP"
   ]
  },
  {
   "cell_type": "code",
   "execution_count": 1,
   "metadata": {},
   "outputs": [],
   "source": [
    "import ProcessOptimizer\n",
    "from ProcessOptimizer.space import Integer, Real, Space\n",
    "from ProcessOptimizer.doe import get_optimal_DOE"
   ]
  },
  {
   "cell_type": "code",
   "execution_count": 2,
   "metadata": {},
   "outputs": [
    {
     "name": "stdout",
     "output_type": "stream",
     "text": [
      "1.0.0_RUCT\n"
     ]
    }
   ],
   "source": [
    "print(ProcessOptimizer.__version__)"
   ]
  },
  {
   "cell_type": "code",
   "execution_count": 15,
   "metadata": {},
   "outputs": [],
   "source": [
    "factor_space = Space(dimensions=[Integer(10, 40, name='ul_indicator'),\n",
    "                                     Integer(20, 100, name='ul_base'),\n",
    "                                     Integer(20, 100, name='ul_acid'),\n",
    "                                     ])\n",
    "\n",
    "factor_names = factor_space.names\n",
    "\n",
    "\n",
    "design, factor_names = get_optimal_DOE(factor_space, 14, design_type='optimization', sorting='random_but_group_replicates', replicates=2)\n",
    "#design, factor_names = get_optimal_DOE(factor_space, 14, design_type='optimization')"
   ]
  },
  {
   "cell_type": "code",
   "execution_count": 16,
   "metadata": {},
   "outputs": [
    {
     "name": "stdout",
     "output_type": "stream",
     "text": [
      "[[ 40  20  20]\n",
      " [ 40  20  20]\n",
      " [ 32  20  42]\n",
      " [ 32  20  42]\n",
      " [ 18  35  78]\n",
      " [ 18  35  78]\n",
      " [ 32  49 100]\n",
      " [ 32  49 100]\n",
      " [ 10 100 100]\n",
      " [ 10 100 100]\n",
      " [ 10  20 100]\n",
      " [ 10  20 100]\n",
      " [ 10 100  20]\n",
      " [ 10 100  20]\n",
      " [ 10  49  49]\n",
      " [ 10  49  49]\n",
      " [ 40 100 100]\n",
      " [ 40 100 100]\n",
      " [ 10  20  20]\n",
      " [ 10  20  20]\n",
      " [ 18  78  35]\n",
      " [ 18  78  35]\n",
      " [ 40 100  20]\n",
      " [ 40 100  20]\n",
      " [ 40  20 100]\n",
      " [ 40  20 100]\n",
      " [ 35  78  78]\n",
      " [ 35  78  78]]\n",
      "['ul_indicator', 'ul_base', 'ul_acid']\n"
     ]
    }
   ],
   "source": [
    "print(design)\n",
    "print(factor_names)"
   ]
  },
  {
   "cell_type": "code",
   "execution_count": 7,
   "metadata": {},
   "outputs": [],
   "source": [
    "factor_space = Space(dimensions=[Integer(10, 40, name='ul_indicator'),\n",
    "                                     Integer(20, 100, name='ul_base'),\n",
    "                                     Integer(20, 100, name='ul_acid'),\n",
    "                                     ])\n",
    "\n",
    "factor_names = factor_space.names\n",
    "\n",
    "my_model1 = f'{factor_names[0]} + {factor_names[1]} + {factor_names[2]} + {factor_names[0]}:{factor_names[1]} + {factor_names[0]}:{factor_names[2]}'\n",
    "\n",
    "design, factor_names = get_optimal_DOE(factor_space, 6, model=my_model1, replicates=4, sorting=\"random_but_group_replicates\")"
   ]
  },
  {
   "cell_type": "code",
   "execution_count": 8,
   "metadata": {},
   "outputs": [
    {
     "name": "stdout",
     "output_type": "stream",
     "text": [
      "[[ 40 100  20]\n",
      " [ 40 100  20]\n",
      " [ 40 100  20]\n",
      " [ 40 100  20]\n",
      " [ 40  20  20]\n",
      " [ 40  20  20]\n",
      " [ 40  20  20]\n",
      " [ 40  20  20]\n",
      " [ 10  20  20]\n",
      " [ 10  20  20]\n",
      " [ 10  20  20]\n",
      " [ 10  20  20]\n",
      " [ 10 100  20]\n",
      " [ 10 100  20]\n",
      " [ 10 100  20]\n",
      " [ 10 100  20]\n",
      " [ 40 100 100]\n",
      " [ 40 100 100]\n",
      " [ 40 100 100]\n",
      " [ 40 100 100]\n",
      " [ 10 100 100]\n",
      " [ 10 100 100]\n",
      " [ 10 100 100]\n",
      " [ 10 100 100]]\n",
      "['ul_indicator', 'ul_base', 'ul_acid']\n"
     ]
    }
   ],
   "source": [
    "print(design)\n",
    "print(factor_names)"
   ]
  },
  {
   "cell_type": "code",
   "execution_count": 15,
   "metadata": {},
   "outputs": [
    {
     "name": "stdout",
     "output_type": "stream",
     "text": [
      "[[ 10 100 100  10 100 100]\n",
      " [ 10 100  20  10 100  20]\n",
      " [ 40  20  20  40  20  20]\n",
      " [ 40 100 100  40 100 100]\n",
      " [ 40  20 100  40  20 100]\n",
      " [ 10  20 100  10  20 100]]\n",
      "[[ 10 100 100]\n",
      " [ 10 100 100]\n",
      " [ 10 100  20]\n",
      " [ 10 100  20]\n",
      " [ 40  20  20]\n",
      " [ 40  20  20]\n",
      " [ 40 100 100]\n",
      " [ 40 100 100]\n",
      " [ 40  20 100]\n",
      " [ 40  20 100]\n",
      " [ 10  20 100]\n",
      " [ 10  20 100]]\n"
     ]
    }
   ],
   "source": [
    "import numpy as np\n",
    "a= np.tile(design, (1, 2))\n",
    "a2 = np.reshape(a, (12, 3))\n",
    "print(a)\n",
    "print(a2)"
   ]
  },
  {
   "cell_type": "code",
   "execution_count": 6,
   "metadata": {},
   "outputs": [
    {
     "name": "stdout",
     "output_type": "stream",
     "text": [
      "ul_indicator + ul_base + ul_acid + ul_indicator:ul_base + ul_indicator:ul_acid + ul_base:ul_acid\n"
     ]
    }
   ],
   "source": [
    "factor_names = factor_space.names\n",
    "my_model1 = f'{factor_names[0]} + {factor_names[1]} + {factor_names[2]} + {factor_names[0]}:{factor_names[1]} + {factor_names[0]}:{factor_names[2]} + {factor_names[1]}:{factor_names[2]}'\n",
    "print(my_model1)"
   ]
  },
  {
   "cell_type": "code",
   "execution_count": 8,
   "metadata": {},
   "outputs": [
    {
     "data": {
      "text/plain": [
       "([[10.0, 100, 20],\n",
       "  [10.0, 100, 100],\n",
       "  [40.0, 20, 100],\n",
       "  [40.0, 100, 100],\n",
       "  [10.0, 20, 100],\n",
       "  [40.0, 100, 20],\n",
       "  [10.0, 20, 20]],\n",
       " ['ul_indicator', 'ul_base', 'ul_acid'])"
      ]
     },
     "execution_count": 8,
     "metadata": {},
     "output_type": "execute_result"
    }
   ],
   "source": [
    "get_optimal_DOE(factor_space, 7, model=my_model1)"
   ]
  },
  {
   "cell_type": "code",
   "execution_count": 12,
   "metadata": {},
   "outputs": [
    {
     "name": "stdout",
     "output_type": "stream",
     "text": [
      "ul_indicator + ul_base + ul_acid + pow(ul_base, 2)\n"
     ]
    }
   ],
   "source": [
    "my_model2 = f'{factor_names[0]} + {factor_names[1]} + {factor_names[2]} + pow({factor_names[1]}, 2)'\n",
    "print(my_model2)"
   ]
  },
  {
   "cell_type": "code",
   "execution_count": 13,
   "metadata": {},
   "outputs": [
    {
     "data": {
      "text/plain": [
       "([[10.0, 64, 100],\n",
       "  [40.0, 100, 100],\n",
       "  [40.0, 20, 20],\n",
       "  [40.0, 64, 20],\n",
       "  [40.0, 56, 100],\n",
       "  [10.0, 20, 100],\n",
       "  [10.0, 100, 20]],\n",
       " ['ul_indicator', 'ul_base', 'ul_acid'])"
      ]
     },
     "execution_count": 13,
     "metadata": {},
     "output_type": "execute_result"
    }
   ],
   "source": [
    "get_optimal_DOE(factor_space, 7, model=my_model2)"
   ]
  },
  {
   "cell_type": "code",
   "execution_count": null,
   "metadata": {},
   "outputs": [],
   "source": []
  }
 ],
 "metadata": {
  "kernelspec": {
   "display_name": "Python 3",
   "language": "python",
   "name": "python3"
  },
  "language_info": {
   "codemirror_mode": {
    "name": "ipython",
    "version": 3
   },
   "file_extension": ".py",
   "mimetype": "text/x-python",
   "name": "python",
   "nbconvert_exporter": "python",
   "pygments_lexer": "ipython3",
   "version": "3.11.5"
  }
 },
 "nbformat": 4,
 "nbformat_minor": 2
}
