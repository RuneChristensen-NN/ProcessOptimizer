{
 "cells": [
  {
   "cell_type": "markdown",
   "metadata": {},
   "source": [
    "# THIS NOTEBOOK IS TO TEST THAT THE MODULES WORK AS EXPECTED\n",
    "# WIP"
   ]
  },
  {
   "cell_type": "code",
   "execution_count": 2,
   "metadata": {},
   "outputs": [],
   "source": [
    "import ProcessOptimizer\n",
    "from ProcessOptimizer.space import Integer, Real, Space\n",
    "from ProcessOptimizer.doe import get_optimal_DOE"
   ]
  },
  {
   "cell_type": "code",
   "execution_count": 3,
   "metadata": {},
   "outputs": [
    {
     "name": "stdout",
     "output_type": "stream",
     "text": [
      "1.0.0_RUCT\n"
     ]
    }
   ],
   "source": [
    "print(ProcessOptimizer.__version__)"
   ]
  },
  {
   "cell_type": "code",
   "execution_count": 4,
   "metadata": {},
   "outputs": [],
   "source": [
    "factor_space = Space(dimensions=[Real(10, 40, name='ul_indicator'),\n",
    "                                     Integer(20, 100, name='ul_base'),\n",
    "                                     Integer(20, 100, name='ul_acid'),\n",
    "                                     ])\n",
    "\n",
    "design, factor_names = get_optimal_DOE(factor_space, 10, design_type='response')"
   ]
  },
  {
   "cell_type": "code",
   "execution_count": 5,
   "metadata": {},
   "outputs": [
    {
     "name": "stdout",
     "output_type": "stream",
     "text": [
      "[[20.90909090909091, 100, 100], [10.0, 20, 100], [10.0, 20, 20], [40.0, 100, 49], [29.09090909090909, 71, 20], [40.0, 42, 100], [40.0, 20, 20], [10.0, 100, 20], [26.363636363636363, 20, 64], [10.0, 71, 71]]\n",
      "['ul_indicator', 'ul_base', 'ul_acid']\n"
     ]
    }
   ],
   "source": [
    "print(design)\n",
    "print(factor_names)"
   ]
  },
  {
   "cell_type": "code",
   "execution_count": 6,
   "metadata": {},
   "outputs": [
    {
     "name": "stdout",
     "output_type": "stream",
     "text": [
      "ul_indicator + ul_base + ul_acid + ul_indicator:ul_base + ul_indicator:ul_acid + ul_base:ul_acid\n"
     ]
    }
   ],
   "source": [
    "factor_names = factor_space.names\n",
    "my_model1 = f'{factor_names[0]} + {factor_names[1]} + {factor_names[2]} + {factor_names[0]}:{factor_names[1]} + {factor_names[0]}:{factor_names[2]} + {factor_names[1]}:{factor_names[2]}'\n",
    "print(my_model1)"
   ]
  },
  {
   "cell_type": "code",
   "execution_count": 8,
   "metadata": {},
   "outputs": [
    {
     "data": {
      "text/plain": [
       "([[10.0, 100, 20],\n",
       "  [10.0, 100, 100],\n",
       "  [40.0, 20, 100],\n",
       "  [40.0, 100, 100],\n",
       "  [10.0, 20, 100],\n",
       "  [40.0, 100, 20],\n",
       "  [10.0, 20, 20]],\n",
       " ['ul_indicator', 'ul_base', 'ul_acid'])"
      ]
     },
     "execution_count": 8,
     "metadata": {},
     "output_type": "execute_result"
    }
   ],
   "source": [
    "get_optimal_DOE(factor_space, 7, model=my_model1)"
   ]
  },
  {
   "cell_type": "code",
   "execution_count": 12,
   "metadata": {},
   "outputs": [
    {
     "name": "stdout",
     "output_type": "stream",
     "text": [
      "ul_indicator + ul_base + ul_acid + pow(ul_base, 2)\n"
     ]
    }
   ],
   "source": [
    "my_model2 = f'{factor_names[0]} + {factor_names[1]} + {factor_names[2]} + pow({factor_names[1]}, 2)'\n",
    "print(my_model2)"
   ]
  },
  {
   "cell_type": "code",
   "execution_count": 13,
   "metadata": {},
   "outputs": [
    {
     "data": {
      "text/plain": [
       "([[10.0, 64, 100],\n",
       "  [40.0, 100, 100],\n",
       "  [40.0, 20, 20],\n",
       "  [40.0, 64, 20],\n",
       "  [40.0, 56, 100],\n",
       "  [10.0, 20, 100],\n",
       "  [10.0, 100, 20]],\n",
       " ['ul_indicator', 'ul_base', 'ul_acid'])"
      ]
     },
     "execution_count": 13,
     "metadata": {},
     "output_type": "execute_result"
    }
   ],
   "source": [
    "get_optimal_DOE(factor_space, 7, model=my_model2)"
   ]
  },
  {
   "cell_type": "code",
   "execution_count": null,
   "metadata": {},
   "outputs": [],
   "source": []
  }
 ],
 "metadata": {
  "kernelspec": {
   "display_name": "Python 3",
   "language": "python",
   "name": "python3"
  },
  "language_info": {
   "codemirror_mode": {
    "name": "ipython",
    "version": 3
   },
   "file_extension": ".py",
   "mimetype": "text/x-python",
   "name": "python",
   "nbconvert_exporter": "python",
   "pygments_lexer": "ipython3",
   "version": "3.11.5"
  }
 },
 "nbformat": 4,
 "nbformat_minor": 2
}
