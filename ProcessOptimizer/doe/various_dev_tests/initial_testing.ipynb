{
 "cells": [
  {
   "cell_type": "code",
   "execution_count": 1,
   "metadata": {},
   "outputs": [],
   "source": [
    "import dexpy.optimal\n",
    "from dexpy.model import make_model, ModelOrder\n",
    "from dexpy.design import coded_to_actual\n",
    "from patsy import dmatrix\n",
    "import numpy as np\n",
    "import ProcessOptimizer\n",
    "from ProcessOptimizer.space import Integer, Categorical, Real, Space\n",
    "import numpy as np\n",
    "import pandas as pd"
   ]
  },
  {
   "cell_type": "code",
   "execution_count": 2,
   "metadata": {},
   "outputs": [
    {
     "name": "stdout",
     "output_type": "stream",
     "text": [
      "1.0.0\n"
     ]
    }
   ],
   "source": [
    "print(ProcessOptimizer.__version__)"
   ]
  },
  {
   "cell_type": "markdown",
   "metadata": {},
   "source": [
    "# These cells are all the very early experimentation"
   ]
  },
  {
   "cell_type": "code",
   "execution_count": 3,
   "metadata": {},
   "outputs": [],
   "source": [
    "space_design = Space(dimensions=[Integer(10, 40, name='ul indicator'),\n",
    "         Integer(20, 100, name='ul base'),\n",
    "         Integer(20, 100, name='ul acid'),\n",
    "         Integer(0, 50, name='ul water1'),\n",
    "         Integer(0, 10, name='ul water2'),\n",
    "         #Categorical([\"boric and citric\", \"citric only\"])\n",
    "         ])"
   ]
  },
  {
   "cell_type": "code",
   "execution_count": 112,
   "metadata": {},
   "outputs": [
    {
     "data": {
      "text/plain": [
       "DesignMatrix with shape (3, 6)\n",
       "  Intercept  a[T.sdsa]  a[T.sdsa4]  b  a[T.sdsa]:b  a[T.sdsa4]:b\n",
       "          1          1           0  4            4             0\n",
       "          1          0           1  5            0             5\n",
       "          1          0           0  6            0             0\n",
       "  Terms:\n",
       "    'Intercept' (column 0)\n",
       "    'a' (columns 1:3)\n",
       "    'b' (column 3)\n",
       "    'a:b' (columns 4:6)"
      ]
     },
     "execution_count": 112,
     "metadata": {},
     "output_type": "execute_result"
    }
   ],
   "source": [
    "dmatrix('a + b + a:b', data={'a': ['sdsa', 'sdsa4', '5u5'], 'b': [4, 5, 6]}, return_type='matrix')"
   ]
  },
  {
   "cell_type": "code",
   "execution_count": 5,
   "metadata": {},
   "outputs": [
    {
     "name": "stdout",
     "output_type": "stream",
     "text": [
      "[1 2 3]\n",
      "[4 5 6]\n"
     ]
    },
    {
     "data": {
      "text/plain": [
       "DesignMatrix with shape (3, 4)\n",
       "  Intercept  a  b  a:b\n",
       "          1  1  4    4\n",
       "          1  2  5   10\n",
       "          1  3  6   18\n",
       "  Terms:\n",
       "    'Intercept' (column 0)\n",
       "    'a' (column 1)\n",
       "    'b' (column 2)\n",
       "    'a:b' (column 3)"
      ]
     },
     "execution_count": 5,
     "metadata": {},
     "output_type": "execute_result"
    }
   ],
   "source": [
    "ab = np.array([[1, 2, 3], [4, 5, 6]])\n",
    "print(ab[0])\n",
    "print(ab[1])\n",
    "dmatrix('a + b + a:b', data={'a': ab[0], 'b': ab[1]}, return_type='matrix')"
   ]
  },
  {
   "cell_type": "code",
   "execution_count": null,
   "metadata": {},
   "outputs": [],
   "source": []
  },
  {
   "cell_type": "code",
   "execution_count": 6,
   "metadata": {},
   "outputs": [
    {
     "name": "stderr",
     "output_type": "stream",
     "text": [
      "c:\\Users\\RUCT\\AppData\\Local\\anaconda3\\Lib\\site-packages\\dexpy\\optimal.py:114: FutureWarning: Series.__getitem__ treating keys as positions is deprecated. In a future version, integer keys will always be treated as labels (consistent with DataFrame behavior). To access a value by position, use `ser.iloc[pos]`\n",
      "  original_value = design_point[f]\n",
      "c:\\Users\\RUCT\\AppData\\Local\\anaconda3\\Lib\\site-packages\\dexpy\\optimal.py:122: FutureWarning: Series.__setitem__ treating keys as positions is deprecated. In a future version, integer keys will always be treated as labels (consistent with DataFrame behavior). To set a value by position, use `ser.iloc[pos] = value`\n",
      "  design_point[f] = low + ((high - low) / (steps - 1)) * s\n",
      "c:\\Users\\RUCT\\AppData\\Local\\anaconda3\\Lib\\site-packages\\dexpy\\optimal.py:135: FutureWarning: Series.__setitem__ treating keys as positions is deprecated. In a future version, integer keys will always be treated as labels (consistent with DataFrame behavior). To set a value by position, use `ser.iloc[pos] = value`\n",
      "  design_point[f] = low + ((high - low) / (steps - 1)) * best_step\n",
      "c:\\Users\\RUCT\\AppData\\Local\\anaconda3\\Lib\\site-packages\\dexpy\\optimal.py:146: FutureWarning: Series.__setitem__ treating keys as positions is deprecated. In a future version, integer keys will always be treated as labels (consistent with DataFrame behavior). To set a value by position, use `ser.iloc[pos] = value`\n",
      "  design_point[f] = original_value\n"
     ]
    }
   ],
   "source": [
    "reaction_design = dexpy.optimal.build_optimal(3, run_count=9, model='X1 + X2 + X1:X2 + X3 + X1:X3 + X2:X3 + X1:X2:X3 + X1**3', randomize=False)"
   ]
  },
  {
   "cell_type": "code",
   "execution_count": 7,
   "metadata": {},
   "outputs": [
    {
     "name": "stdout",
     "output_type": "stream",
     "text": [
      "    X1   X2   X3\n",
      "0  1.0 -1.0  1.0\n",
      "1  1.0  1.0  1.0\n",
      "2  1.0 -1.0 -1.0\n",
      "3  1.0  1.0 -1.0\n",
      "4 -1.0  1.0  1.0\n",
      "5 -1.0  1.0 -1.0\n",
      "6 -1.0 -1.0  1.0\n",
      "7 -1.0 -1.0 -1.0\n",
      "8  1.0  1.0  1.0\n",
      "<class 'pandas.core.frame.DataFrame'>\n"
     ]
    }
   ],
   "source": [
    "print(reaction_design)\n",
    "print(type(reaction_design))"
   ]
  },
  {
   "cell_type": "code",
   "execution_count": 8,
   "metadata": {},
   "outputs": [
    {
     "name": "stderr",
     "output_type": "stream",
     "text": [
      "c:\\Users\\RUCT\\AppData\\Local\\anaconda3\\Lib\\site-packages\\dexpy\\optimal.py:114: FutureWarning: Series.__getitem__ treating keys as positions is deprecated. In a future version, integer keys will always be treated as labels (consistent with DataFrame behavior). To access a value by position, use `ser.iloc[pos]`\n",
      "  original_value = design_point[f]\n",
      "c:\\Users\\RUCT\\AppData\\Local\\anaconda3\\Lib\\site-packages\\dexpy\\optimal.py:122: FutureWarning: Series.__setitem__ treating keys as positions is deprecated. In a future version, integer keys will always be treated as labels (consistent with DataFrame behavior). To set a value by position, use `ser.iloc[pos] = value`\n",
      "  design_point[f] = low + ((high - low) / (steps - 1)) * s\n",
      "c:\\Users\\RUCT\\AppData\\Local\\anaconda3\\Lib\\site-packages\\dexpy\\optimal.py:135: FutureWarning: Series.__setitem__ treating keys as positions is deprecated. In a future version, integer keys will always be treated as labels (consistent with DataFrame behavior). To set a value by position, use `ser.iloc[pos] = value`\n",
      "  design_point[f] = low + ((high - low) / (steps - 1)) * best_step\n",
      "c:\\Users\\RUCT\\AppData\\Local\\anaconda3\\Lib\\site-packages\\dexpy\\optimal.py:146: FutureWarning: Series.__setitem__ treating keys as positions is deprecated. In a future version, integer keys will always be treated as labels (consistent with DataFrame behavior). To set a value by position, use `ser.iloc[pos] = value`\n",
      "  design_point[f] = original_value\n"
     ]
    },
    {
     "data": {
      "image/png": "[encoded data removed]",
      "text/plain": [
       "<Figure size 640x480 with 1 Axes>"
      ]
     },
     "metadata": {},
     "output_type": "display_data"
    }
   ],
   "source": [
    "import matplotlib.pyplot as plt\n",
    "\n",
    "for n in range(1):\n",
    "    reaction_design = dexpy.optimal.build_optimal(5, run_count=88, order=ModelOrder.quadratic, randomize=False)\n",
    "    #print(reaction_design)\n",
    "    \n",
    "    column_names = ['time', 'temp', 'geg', 'gege', 'gegegeq']\n",
    "    reaction_design.columns = column_names   # This is some pandas stuff\n",
    "\n",
    "    plt.scatter(reaction_design['time'], reaction_design['temp'])\n",
    "\n",
    "plt.show()"
   ]
  },
  {
   "cell_type": "code",
   "execution_count": 9,
   "metadata": {},
   "outputs": [
    {
     "name": "stdout",
     "output_type": "stream",
     "text": [
      "        time       temp\n",
      "0  40.000000  90.000000\n",
      "1  40.000000  80.000000\n",
      "2  46.363636  84.545455\n",
      "3  44.545455  90.000000\n",
      "4  40.000000  85.454545\n",
      "5  50.000000  80.000000\n",
      "6  44.545455  80.000000\n",
      "7  50.000000  90.000000\n"
     ]
    },
    {
     "name": "stderr",
     "output_type": "stream",
     "text": [
      "c:\\Users\\RUCT\\AppData\\Local\\anaconda3\\Lib\\site-packages\\dexpy\\optimal.py:114: FutureWarning: Series.__getitem__ treating keys as positions is deprecated. In a future version, integer keys will always be treated as labels (consistent with DataFrame behavior). To access a value by position, use `ser.iloc[pos]`\n",
      "  original_value = design_point[f]\n",
      "c:\\Users\\RUCT\\AppData\\Local\\anaconda3\\Lib\\site-packages\\dexpy\\optimal.py:122: FutureWarning: Series.__setitem__ treating keys as positions is deprecated. In a future version, integer keys will always be treated as labels (consistent with DataFrame behavior). To set a value by position, use `ser.iloc[pos] = value`\n",
      "  design_point[f] = low + ((high - low) / (steps - 1)) * s\n",
      "c:\\Users\\RUCT\\AppData\\Local\\anaconda3\\Lib\\site-packages\\dexpy\\optimal.py:135: FutureWarning: Series.__setitem__ treating keys as positions is deprecated. In a future version, integer keys will always be treated as labels (consistent with DataFrame behavior). To set a value by position, use `ser.iloc[pos] = value`\n",
      "  design_point[f] = low + ((high - low) / (steps - 1)) * best_step\n",
      "c:\\Users\\RUCT\\AppData\\Local\\anaconda3\\Lib\\site-packages\\dexpy\\optimal.py:146: FutureWarning: Series.__setitem__ treating keys as positions is deprecated. In a future version, integer keys will always be treated as labels (consistent with DataFrame behavior). To set a value by position, use `ser.iloc[pos] = value`\n",
      "  design_point[f] = original_value\n"
     ]
    }
   ],
   "source": [
    "import dexpy.optimal\n",
    "from dexpy.model import ModelOrder\n",
    "\n",
    "reaction_design = dexpy.optimal.build_optimal(2, run_count=8, order=ModelOrder.quadratic, randomize=False)\n",
    "\n",
    "column_names = ['time', 'temp']\n",
    "actual_lows = { 'time': 40, 'temp': 80 }\n",
    "actual_highs = { 'time': 50, 'temp': 90 }\n",
    "reaction_design.columns = column_names\n",
    "print(coded_to_actual(reaction_design, actual_lows, actual_highs))"
   ]
  },
  {
   "cell_type": "code",
   "execution_count": 10,
   "metadata": {},
   "outputs": [
    {
     "name": "stderr",
     "output_type": "stream",
     "text": [
      "c:\\Users\\RUCT\\AppData\\Local\\anaconda3\\Lib\\site-packages\\dexpy\\optimal.py:114: FutureWarning: Series.__getitem__ treating keys as positions is deprecated. In a future version, integer keys will always be treated as labels (consistent with DataFrame behavior). To access a value by position, use `ser.iloc[pos]`\n",
      "  original_value = design_point[f]\n",
      "c:\\Users\\RUCT\\AppData\\Local\\anaconda3\\Lib\\site-packages\\dexpy\\optimal.py:122: FutureWarning: Series.__setitem__ treating keys as positions is deprecated. In a future version, integer keys will always be treated as labels (consistent with DataFrame behavior). To set a value by position, use `ser.iloc[pos] = value`\n",
      "  design_point[f] = low + ((high - low) / (steps - 1)) * s\n",
      "c:\\Users\\RUCT\\AppData\\Local\\anaconda3\\Lib\\site-packages\\dexpy\\optimal.py:135: FutureWarning: Series.__setitem__ treating keys as positions is deprecated. In a future version, integer keys will always be treated as labels (consistent with DataFrame behavior). To set a value by position, use `ser.iloc[pos] = value`\n",
      "  design_point[f] = low + ((high - low) / (steps - 1)) * best_step\n",
      "c:\\Users\\RUCT\\AppData\\Local\\anaconda3\\Lib\\site-packages\\dexpy\\optimal.py:146: FutureWarning: Series.__setitem__ treating keys as positions is deprecated. In a future version, integer keys will always be treated as labels (consistent with DataFrame behavior). To set a value by position, use `ser.iloc[pos] = value`\n",
      "  design_point[f] = original_value\n"
     ]
    },
    {
     "data": {
      "image/png": "[encoded data removed]",
      "text/plain": [
       "<Figure size 640x480 with 1 Axes>"
      ]
     },
     "metadata": {},
     "output_type": "display_data"
    }
   ],
   "source": [
    "import seaborn as sns\n",
    "import matplotlib.pyplot as plt\n",
    "\n",
    "reaction_design = dexpy.optimal.build_optimal(2, order=ModelOrder.quadratic)\n",
    "column_names = ['time', 'temp']\n",
    "reaction_design.columns = column_names\n",
    "\n",
    "plt.scatter(reaction_design['time'], reaction_design['temp'])\n",
    "\n",
    "\n",
    "#fg = sns.lmplot(data=reaction_design, fit_reg=False)\n",
    "#ax = fg.axes[0, 0]\n",
    "#ax.set_xticks([-1, 0, 1])\n",
    "#ax.set_xticklabels(['40 min', '45 min', '50 min'])\n",
    "#ax.set_yticks([-1, 0, 1])\n",
    "#ax.set_yticklabels(['80C', '85C', '90C'])\n",
    "plt.show()"
   ]
  },
  {
   "cell_type": "markdown",
   "metadata": {},
   "source": [
    "# TONS OF TEST CODE BELOW"
   ]
  },
  {
   "cell_type": "code",
   "execution_count": 11,
   "metadata": {},
   "outputs": [],
   "source": [
    "from patsy import dmatrix, ModelDesc\n",
    "\n",
    "import patsy\n",
    "\n",
    "import math\n",
    "\n",
    "from dexpy.model import make_model, ModelOrder  # See if I can get these removed in the end"
   ]
  },
  {
   "cell_type": "markdown",
   "metadata": {},
   "source": [
    "## copy/paste some functions from dexpy"
   ]
  },
  {
   "cell_type": "markdown",
   "metadata": {},
   "source": [
    "Some basic functions"
   ]
  },
  {
   "cell_type": "code",
   "execution_count": 12,
   "metadata": {},
   "outputs": [],
   "source": [
    "def hit_and_run(x0, constraint_matrix, bounds, n_samples, thin = 1):\n",
    "    \"\"\"A basic implementation of the hit and run sampler\n",
    "\n",
    "    :param x0: The starting value of sampler.\n",
    "    :param constraint_matrix: A matrix of constraints in the form Ax <= b.\n",
    "    :param bounds: A vector of bounds in the form Ax <= b.\n",
    "    :param n_samples: The numbers of samples to return.\n",
    "    :param thin: The thinning factor. Retain every 'thin' sample (e.g. if thin = 2, retain every 2nd sample)\n",
    "\n",
    "    This function is from https://github.com/statease/dexpy\n",
    "    Copyright 2016 Stat-Ease, Inc.\n",
    "    License: Apache License, Version 2.0\n",
    "    License link: https://github.com/statease/dexpy/blob/master/LICENSE\n",
    "    \"\"\"\n",
    "    x = np.copy(x0)\n",
    "    p = len(x)\n",
    "\n",
    "    out_samples = np.zeros((n_samples, p))\n",
    "\n",
    "    for i in range(0, n_samples):\n",
    "        thin_count = 0\n",
    "\n",
    "        while thin_count < thin:\n",
    "            thin_count = thin_count + 1\n",
    "\n",
    "            random_dir = np.random.normal(0.0, 1.0, p)\n",
    "            random_dir = random_dir / np.linalg.norm(random_dir)\n",
    "\n",
    "            denom = constraint_matrix.dot(random_dir)\n",
    "            intersections = (bounds - constraint_matrix.dot(x)) / denom\n",
    "            t_low  = np.max(intersections[denom < 0])\n",
    "            t_high  = np.min(intersections[denom > 0])\n",
    "\n",
    "            u = np.random.uniform(0, 1)\n",
    "            random_distance = t_low + u * (t_high - t_low)\n",
    "            x_new = x + random_distance * random_dir\n",
    "\n",
    "        out_samples[i, ] = x_new\n",
    "        x = x_new\n",
    "\n",
    "    return(out_samples)"
   ]
  },
  {
   "cell_type": "code",
   "execution_count": 13,
   "metadata": {},
   "outputs": [],
   "source": [
    "def bootstrap(factor_names, model, run_count):\n",
    "    \"\"\"Create a minimal starting design that is non-singular.\"\"\"\n",
    "    md = ModelDesc.from_formula(model)  # Potentially remove this dependency - Not as important as we look to still be using dmatrix from patsy\n",
    "    #print(md)  \n",
    "    model_size = len(md.rhs_termlist)\n",
    "    if run_count == 0:\n",
    "        run_count = model_size\n",
    "    if model_size > run_count:\n",
    "        raise ValueError(\"Can't build a design of size {} \"\n",
    "                         \"for a model of rank {}. \"\n",
    "                         \"Model: '{}'\".format(run_count, model_size, model))\n",
    "\n",
    "    factor_count = len(factor_names)\n",
    "    x0 = np.zeros(factor_count)\n",
    "    # add high/low bounds to constraint matrix\n",
    "    constraint_matrix = np.zeros((factor_count * 2, factor_count))\n",
    "    bounds = np.zeros(factor_count * 2)\n",
    "    c = 0\n",
    "    for f in range(factor_count):\n",
    "        constraint_matrix[c][f] = -1\n",
    "        bounds[c] = 1\n",
    "        c += 1\n",
    "        constraint_matrix[c][f] = 1\n",
    "        bounds[c] = 1\n",
    "        c += 1\n",
    "\n",
    "    start_points = hit_and_run(x0, constraint_matrix, bounds, run_count)\n",
    "    #print(start_points)\n",
    "    #print(type(start_points))\n",
    "\n",
    "    d = pd.DataFrame(start_points, columns=factor_names)   # I need to remove this dependency - Change function to something that doesn't require pandas but still works\n",
    "    #d = np.array\n",
    "    #print(d)  # This is something that I need to remove - Just for testing purposes\n",
    "    X = dmatrix(model, d)\n",
    "    #print(X)  # This is something that I need to remove - Just for testing purposes\n",
    "\n",
    "    return (d, X)"
   ]
  },
  {
   "cell_type": "markdown",
   "metadata": {},
   "source": [
    "Now also in my own version"
   ]
  },
  {
   "cell_type": "code",
   "execution_count": 14,
   "metadata": {},
   "outputs": [],
   "source": [
    "def own_bootstrap(factor_names, model, run_count):\n",
    "    \"\"\"Create a minimal starting design that is non-singular.\n",
    "    \n",
    "    \n",
    "    This function is modified from https://github.com/statease/dexpy\n",
    "    Copyright 2016 Stat-Ease, Inc.\n",
    "    License: Apache License, Version 2.0\n",
    "    License link: https://github.com/statease/dexpy/blob/master/LICENSE\n",
    "    \"\"\"\n",
    "    md = patsy.ModelDesc.from_formula(model)\n",
    "    model_size = len(md.rhs_termlist)\n",
    "    if run_count == 0:\n",
    "        run_count = model_size\n",
    "    if model_size > run_count:\n",
    "        raise ValueError(\"Can't build a design of size {} \"\n",
    "                         \"for a model of rank {}. \"\n",
    "                         \"Model: '{}'\".format(run_count, model_size, model))\n",
    "\n",
    "    factor_count = len(factor_names)\n",
    "    x0 = np.zeros(factor_count)\n",
    "    # add high/low bounds to constraint matrix\n",
    "    constraint_matrix = np.zeros((factor_count * 2, factor_count))\n",
    "    bounds = np.zeros(factor_count * 2)\n",
    "    c = 0\n",
    "    for f in range(factor_count):\n",
    "        constraint_matrix[c][f] = -1\n",
    "        bounds[c] = 1\n",
    "        c += 1\n",
    "        constraint_matrix[c][f] = 1\n",
    "        bounds[c] = 1\n",
    "        c += 1\n",
    "\n",
    "    start_points = hit_and_run(x0, constraint_matrix, bounds, run_count)\n",
    "\n",
    "    d = start_points\n",
    "\n",
    "    d_dict = {}\n",
    "    for i in range(0, factor_count):\n",
    "        d_dict[factor_names[i]] = start_points[:,i]\n",
    "\n",
    "    X = dmatrix(model, d_dict, return_type='matrix')\n",
    "\n",
    "    return (d, X)"
   ]
  },
  {
   "cell_type": "code",
   "execution_count": 15,
   "metadata": {},
   "outputs": [],
   "source": [
    "#bootstrap(factor_names, model, run_count)\n",
    "\n",
    "#How does d and X change when I change away from pandas\n",
    "\n",
    "\n",
    "# NEED TO FIND EXAMPLE FACTOR NAMES AND MODEL TO TEST THIS FUNCTION\n",
    "\n"
   ]
  },
  {
   "cell_type": "code",
   "execution_count": 16,
   "metadata": {},
   "outputs": [
    {
     "data": {
      "text/plain": [
       "DesignMatrix with shape (3, 4)\n",
       "  Intercept  a  b  a:b\n",
       "          1  1  4    4\n",
       "          1  2  5   10\n",
       "          1  3  6   18\n",
       "  Terms:\n",
       "    'Intercept' (column 0)\n",
       "    'a' (column 1)\n",
       "    'b' (column 2)\n",
       "    'a:b' (column 3)"
      ]
     },
     "execution_count": 16,
     "metadata": {},
     "output_type": "execute_result"
    }
   ],
   "source": [
    "dmatrix('a + b + a:b', data={'a': [1, 2, 3], 'b': [4, 5, 6]}, return_type='matrix')"
   ]
  },
  {
   "cell_type": "markdown",
   "metadata": {},
   "source": [
    "Below are utility functions that do not use anything but np. I probably do not need to change anything here but time will tell"
   ]
  },
  {
   "cell_type": "code",
   "execution_count": 17,
   "metadata": {},
   "outputs": [],
   "source": [
    "def update(XtXi, new_point, old_point):\n",
    "    \"\"\"rank-2 update of the variance-covariance matrix\n",
    "\n",
    "    Equation (6) from Meyer and Nachtsheim :cite:`MeyerNachtsheim1995`.\n",
    "\n",
    "    This function is from https://github.com/statease/dexpy\n",
    "    Copyright 2016 Stat-Ease, Inc.\n",
    "    License: Apache License, Version 2.0\n",
    "    License link: https://github.com/statease/dexpy/blob/master/LICENSE\n",
    "    \"\"\"\n",
    "    F2 = np.vstack((new_point, old_point))\n",
    "    F1 = F2.T.copy()\n",
    "    F1[:,1] *= -1\n",
    "    FD = np.dot(F2, XtXi)\n",
    "    I2x2 = np.identity(2) + np.dot(FD, F1)\n",
    "    Inverse2x2 = np.linalg.inv(I2x2)\n",
    "    F2x2FD = np.dot(np.dot(F1, Inverse2x2), FD)\n",
    "    return XtXi - np.dot(XtXi, F2x2FD)\n",
    "\n",
    "def expand_point(design_point, code):\n",
    "    \"\"\"Converts a point in factor space to conform with the X matrix.\n",
    "    \n",
    "    This function is from https://github.com/statease/dexpy\n",
    "    Copyright 2016 Stat-Ease, Inc.\n",
    "    License: Apache License, Version 2.0\n",
    "    License link: https://github.com/statease/dexpy/blob/master/LICENSE\n",
    "    \"\"\"\n",
    "    return np.array(eval(code, {}, design_point))\n",
    "\n",
    "def delta(X, XtXi, row, new_point):\n",
    "    \"\"\"Calculates the change in D-optimality from exchanging a point.\n",
    "\n",
    "    This is equation (1) in Meyer and Nachtsheim :cite:`MeyerNachtsheim1995`.\n",
    "\n",
    "    This function is from https://github.com/statease/dexpy\n",
    "    Copyright 2016 Stat-Ease, Inc.\n",
    "    License: Apache License, Version 2.0\n",
    "    License link: https://github.com/statease/dexpy/blob/master/LICENSE\n",
    "    \"\"\"\n",
    "    old_point = X[row]\n",
    "\n",
    "    added_variance = np.dot(new_point, np.dot(XtXi, new_point.T))\n",
    "    removed_variance = np.dot(old_point, np.dot(XtXi, old_point.T))\n",
    "    covariance = np.dot(new_point, np.dot(XtXi, old_point.T))\n",
    "    return (\n",
    "        1 + (added_variance - removed_variance) +\n",
    "            (covariance * covariance - added_variance * removed_variance)\n",
    "    )\n"
   ]
  },
  {
   "cell_type": "code",
   "execution_count": 18,
   "metadata": {},
   "outputs": [],
   "source": [
    "def own_expand_point(design_point, code):\n",
    "    \"\"\"Converts a point in factor space to conform with the X matrix.\n",
    "    \n",
    "    This function is from https://github.com/statease/dexpy\n",
    "    Copyright 2016 Stat-Ease, Inc.\n",
    "    License: Apache License, Version 2.0\n",
    "    License link: https://github.com/statease/dexpy/blob/master/LICENSE\n",
    "    \"\"\"\n",
    "    \n",
    "    return np.array(eval(code, {}, design_point))"
   ]
  },
  {
   "cell_type": "code",
   "execution_count": 65,
   "metadata": {},
   "outputs": [],
   "source": [
    "\"\"\"Functions for creating and working with a model.\"\"\"\n",
    "\n",
    "from enum import Enum\n",
    "\n",
    "class ModelOrder(Enum):\n",
    "    \"\"\"Represents a full model order.\"\"\"\n",
    "\n",
    "    constant = 0\n",
    "    linear = 1\n",
    "    quadratic = 2\n",
    "    cubic = 3\n",
    "\n",
    "def make_quadratic_model(factor_names, include_squared = True):\n",
    "    \"\"\"Creates patsy formula representing a quadratic model.\"\"\"\n",
    "    return make_model(factor_names, ModelOrder.quadratic, include_squared)\n",
    "\n",
    "def make_model(factor_names, model_order, include_powers = True):\n",
    "    \"\"\"Creates patsy formula representing a given model order.\"\"\"\n",
    "    if model_order == ModelOrder.quadratic:\n",
    "        interaction_model = \"({})**2\".format(\"+\".join(factor_names))\n",
    "        if not include_powers:\n",
    "            return interaction_model\n",
    "        squared_terms = \"pow({}, 2)\".format(\",2)+pow(\".join(factor_names))\n",
    "        return \"{}+{}\".format(interaction_model, squared_terms)\n",
    "\n",
    "    if model_order == ModelOrder.cubic:\n",
    "        interaction_model = \"({})**3\".format(\"+\".join(factor_names))\n",
    "        if not include_powers:\n",
    "            return interaction_model\n",
    "        squared_terms = \"pow({}, 2)\".format(\",2)+pow(\".join(factor_names))\n",
    "        cubed_terms = \"pow({}, 3)\".format(\",3)+pow(\".join(factor_names))\n",
    "        return \"+\".join([interaction_model, squared_terms, cubed_terms])\n",
    "\n",
    "    return \"+\".join(factor_names)"
   ]
  },
  {
   "cell_type": "code",
   "execution_count": 91,
   "metadata": {},
   "outputs": [],
   "source": [
    "def make_model_own(factor_names, model_order, include_powers = True):\n",
    "    \"\"\"Creates patsy formula representing a given model order.\"\"\"\n",
    "    if model_order == 1:\n",
    "        return \"+\".join(factor_names)\n",
    "    \n",
    "    elif model_order == 2:\n",
    "        interaction_model = \"({})**2\".format(\"+\".join(factor_names))\n",
    "        if not include_powers:\n",
    "            return interaction_model\n",
    "        squared_terms = \"pow({}, 2)\".format(\",2)+pow(\".join(factor_names))\n",
    "        return \"{}+{}\".format(interaction_model, squared_terms)\n",
    "\n",
    "    elif model_order == 3:\n",
    "        interaction_model = \"({})**3\".format(\"+\".join(factor_names))\n",
    "        if not include_powers:\n",
    "            return interaction_model\n",
    "        squared_terms = \"pow({}, 2)\".format(\",2)+pow(\".join(factor_names))\n",
    "        cubed_terms = \"pow({}, 3)\".format(\",3)+pow(\".join(factor_names))\n",
    "        return \"+\".join([interaction_model, squared_terms, cubed_terms])\n",
    "    \n",
    "    else:\n",
    "        raise Warning(\"Model order not supported\")\n",
    "\n",
    "    #return \"+\".join(factor_names)"
   ]
  },
  {
   "cell_type": "markdown",
   "metadata": {},
   "source": [
    "This is the main function. It is important that it works. Result does not nessesarily have to be the same as in dexpy.\n",
    "Maybe I can avoid using dexpy.design.get_factor_names(factor_count). It simply gives X1, X2 etc. \n",
    "I might be able to just pipe in the names from the defined space group.\n"
   ]
  },
  {
   "cell_type": "code",
   "execution_count": 59,
   "metadata": {},
   "outputs": [],
   "source": [
    "def build_optimal_own(factor_names, **kwargs):\n",
    "    r\"\"\"Builds an optimal design.\n",
    "\n",
    "    This uses the Coordinate-Exchange algorithm from Meyer and Nachtsheim 1995\n",
    "    :cite:`MeyerNachtsheim1995`.\n",
    "\n",
    "    :param factor_names: The names of the factors in the design.\n",
    "    :type factor_names: list of str\n",
    "\n",
    "    :Keyword Arguments:\n",
    "        * **order** (:class:`ModelOrder <dexpy.model.ModelOrder>`) -- \\\n",
    "            Builds a design for this order model. \\\n",
    "            Mutually exclusive with the **model** parameter.\n",
    "        * **model** (`patsy formula <https://patsy.readthedocs.io>`_) -- \\\n",
    "            Builds a design for this model formula. \\\n",
    "            Mutually exclusive with the **order** parameter.\n",
    "        * **run_count** (`integer`) -- \\\n",
    "            The number of runs to use in the design. This must be equal\\\n",
    "            to or greater than the rank of the model.\n",
    "\n",
    "    _______________________________________________________\n",
    "\n",
    "    This function is adapted from https://github.com/statease/dexpy\n",
    "    Copyright 2016 Stat-Ease, Inc.\n",
    "    License: Apache License, Version 2.0\n",
    "    License link: https://github.com/statease/dexpy/blob/master/LICENSE\n",
    "    \"\"\"\n",
    "\n",
    "    factor_count = len(factor_names)\n",
    "    no_pandas = True\n",
    "\n",
    "    model = kwargs.get('model', None)\n",
    "\n",
    "    if model is None:\n",
    "        order = kwargs.get('order', ModelOrder.quadratic)  \n",
    "        model = make_model(factor_names, order, True)   # HERE IS SOMETHING THAT I NEED TO LOOK AT\n",
    "\n",
    "    run_count = kwargs.get('run_count', 0)\n",
    "\n",
    "    # first generate a valid starting design\n",
    "    if no_pandas:\n",
    "        (design, X) = own_bootstrap(factor_names, model, run_count)\n",
    "    else:\n",
    "        (design, X) = bootstrap(factor_names, model, run_count)\n",
    "\n",
    "    # Enable conversion between design points and X matrix\n",
    "    functions = []\n",
    "    for _, subterms in X.design_info.term_codings.items():\n",
    "        sub_funcs = []\n",
    "        for subterm in subterms:\n",
    "            for factor in subterm.factors:\n",
    "                eval_code = X.design_info.factor_infos[factor].state['eval_code']\n",
    "                if eval_code[0] == 'I':\n",
    "                    eval_code = eval_code[1:]\n",
    "                sub_funcs.append(eval_code)\n",
    "        if not sub_funcs:\n",
    "            functions.append(\"1\") # intercept\n",
    "        else:\n",
    "            functions.append(\"*\".join(sub_funcs))\n",
    "\n",
    "    full_func = \"[\" + \",\".join(functions) + \"]\"\n",
    "    print('full_func', full_func)\n",
    "    code = compile(full_func, \"<string>\", \"eval\")\n",
    "\n",
    "    # set up the algorithm parameters\n",
    "    steps = 12\n",
    "    low = -1\n",
    "    high = 1\n",
    "\n",
    "    XtXi = np.linalg.inv(np.dot(np.transpose(X), X))\n",
    "    (_, d_optimality) = np.linalg.slogdet(XtXi)\n",
    "\n",
    "    design_improved = True\n",
    "    swaps = 0\n",
    "    evals = 0\n",
    "    min_change = 1.0 + np.finfo(float).eps\n",
    "    while design_improved:\n",
    "        design_improved = False\n",
    "        for i in range(0, len(design)):\n",
    "            if no_pandas:\n",
    "                design_point = {}\n",
    "                for ii in range(0, factor_count):\n",
    "                    design_point[factor_names[ii]] = design[i, ii]\n",
    "                factor_loop = enumerate(factor_names)\n",
    "            else:\n",
    "                design_point = design.iloc[i]\n",
    "                factor_loop = range(0, factor_count)\n",
    "\n",
    "            for f in factor_loop:\n",
    "                if no_pandas:\n",
    "                    index_factor = f[0]\n",
    "                    f = f[1]\n",
    "                original_value = design_point[f]\n",
    "                original_expanded = X[i]\n",
    "                best_step = -1\n",
    "                best_point = []\n",
    "                best_change = min_change\n",
    "\n",
    "                for s in range(0, steps):\n",
    "\n",
    "                    design_point[f] = low + ((high - low) / (steps - 1)) * s\n",
    "                    new_point = expand_point(design_point, code)\n",
    " \n",
    "                    change_in_d = delta(X, XtXi, i, new_point)\n",
    "                    evals += 1\n",
    "\n",
    "                    if change_in_d - best_change > np.finfo(float).eps:\n",
    "                        best_point = new_point\n",
    "                        best_step = s\n",
    "                        best_change = change_in_d\n",
    "\n",
    "                if best_step >= 0:\n",
    "                    # update X with the best point\n",
    "                    design_point[f] = low + ((high - low) / (steps - 1)) * best_step\n",
    "                    if no_pandas:\n",
    "                        design[i, index_factor] = design_point[f]\n",
    "                    XtXi = update(XtXi, best_point, X[i])\n",
    "                    X[i] = best_point\n",
    "\n",
    "                    d_optimality -= math.log(best_change)\n",
    "                    design_improved = True\n",
    "                    swaps += 1\n",
    "\n",
    "                else:\n",
    "                    # restore the original design point value\n",
    "                    design_point[f] = original_value\n",
    "                    X[i] = original_expanded\n",
    "\n",
    "    #logging.info(\"{} swaps evaluated, {} executed ({:.2f}%)\".format(evals, swaps, 100*(swaps / evals)))  # Maybe reconsider this. Outcomment for now\n",
    "\n",
    "    return design"
   ]
  },
  {
   "cell_type": "code",
   "execution_count": 105,
   "metadata": {},
   "outputs": [],
   "source": [
    "def build_optimal_no_pandas(factor_names, **kwargs):\n",
    "    r\"\"\"Builds an optimal design.\n",
    "\n",
    "    This uses the Coordinate-Exchange algorithm from Meyer and Nachtsheim 1995\n",
    "    :cite:`MeyerNachtsheim1995`.\n",
    "\n",
    "    :param factor_names: The names of the factors in the design.\n",
    "    :type factor_names: list of str\n",
    "\n",
    "    :Keyword Arguments:\n",
    "        * **order** (:class:`ModelOrder <dexpy.model.ModelOrder>`) -- \\\n",
    "            Builds a design for this order model. \\\n",
    "            Mutually exclusive with the **model** parameter.\n",
    "        * **model** (`patsy formula <https://patsy.readthedocs.io>`_) -- \\\n",
    "            Builds a design for this model formula. \\\n",
    "            Mutually exclusive with the **order** parameter.\n",
    "        * **run_count** (`integer`) -- \\\n",
    "            The number of runs to use in the design. This must be equal\\\n",
    "            to or greater than the rank of the model.\n",
    "\n",
    "    _______________________________________________________\n",
    "\n",
    "    This function is adapted from https://github.com/statease/dexpy\n",
    "    Copyright 2016 Stat-Ease, Inc.\n",
    "    License: Apache License, Version 2.0\n",
    "    License link: https://github.com/statease/dexpy/blob/master/LICENSE\n",
    "    \"\"\"\n",
    "\n",
    "    factor_count = len(factor_names)\n",
    "    model = kwargs.get('model', None)\n",
    "\n",
    "    if model is None:\n",
    "        order = kwargs.get('order', 2)\n",
    "        model = make_model_own(factor_names, order)\n",
    "\n",
    "    run_count = kwargs.get('run_count', 0)\n",
    "\n",
    "    # first generate a valid starting design\n",
    "    (design, X) = own_bootstrap(factor_names, model, run_count)\n",
    "\n",
    "    # Enable conversion between design points and X matrix\n",
    "    functions = []\n",
    "    for _, subterms in X.design_info.term_codings.items():\n",
    "        sub_funcs = []\n",
    "        for subterm in subterms:\n",
    "            for factor in subterm.factors:\n",
    "                eval_code = X.design_info.factor_infos[factor].state['eval_code']\n",
    "                if eval_code[0] == 'I':\n",
    "                    eval_code = eval_code[1:]\n",
    "                sub_funcs.append(eval_code)\n",
    "        if not sub_funcs:\n",
    "            functions.append(\"1\") # intercept\n",
    "        else:\n",
    "            functions.append(\"*\".join(sub_funcs))\n",
    "\n",
    "    full_func = \"[\" + \",\".join(functions) + \"]\"\n",
    "    code = compile(full_func, \"<string>\", \"eval\")\n",
    "\n",
    "    # set up the algorithm parameters\n",
    "    steps = 12\n",
    "    low = -1\n",
    "    high = 1\n",
    "\n",
    "    XtXi = np.linalg.inv(np.dot(np.transpose(X), X))\n",
    "    (_, d_optimality) = np.linalg.slogdet(XtXi)\n",
    "\n",
    "    design_improved = True\n",
    "    swaps = 0\n",
    "    evals = 0\n",
    "    min_change = 1.0 + np.finfo(float).eps\n",
    "    while design_improved:\n",
    "        design_improved = False\n",
    "        for i in range(0, len(design)):\n",
    "            design_point = {}\n",
    "            for ii in range(0, factor_count):\n",
    "                design_point[factor_names[ii]] = design[i, ii]\n",
    "            for index_factor, f in enumerate(factor_names):\n",
    "                original_value = design_point[f]\n",
    "                original_expanded = X[i]\n",
    "                best_step = -1\n",
    "                best_point = []\n",
    "                best_change = min_change\n",
    "\n",
    "                for s in range(0, steps):\n",
    "\n",
    "                    design_point[f] = low + ((high - low) / (steps - 1)) * s\n",
    "                    new_point = expand_point(design_point, code)\n",
    " \n",
    "                    change_in_d = delta(X, XtXi, i, new_point)\n",
    "                    evals += 1\n",
    "\n",
    "                    if change_in_d - best_change > np.finfo(float).eps:\n",
    "                        best_point = new_point\n",
    "                        best_step = s\n",
    "                        best_change = change_in_d\n",
    "\n",
    "                if best_step >= 0:\n",
    "                    # update X with the best point\n",
    "                    design_point[f] = low + ((high - low) / (steps - 1)) * best_step\n",
    "                    design[i, index_factor] = design_point[f]\n",
    "                    XtXi = update(XtXi, best_point, X[i])\n",
    "                    X[i] = best_point\n",
    "\n",
    "                    d_optimality -= math.log(best_change)\n",
    "                    design_improved = True\n",
    "                    swaps += 1\n",
    "\n",
    "                else:\n",
    "                    # restore the original design point value\n",
    "                    design_point[f] = original_value\n",
    "                    X[i] = original_expanded\n",
    "\n",
    "    return design"
   ]
  },
  {
   "cell_type": "markdown",
   "metadata": {},
   "source": [
    "# WRITE SOME TESTS TO SEE IF THE THINGS I MESS WITH WORK: THEY ARE BELOW HERE"
   ]
  },
  {
   "cell_type": "code",
   "execution_count": 106,
   "metadata": {},
   "outputs": [
    {
     "name": "stdout",
     "output_type": "stream",
     "text": [
      "ModelOrder.quadratic\n"
     ]
    }
   ],
   "source": [
    "print(ModelOrder.quadratic)"
   ]
  },
  {
   "cell_type": "code",
   "execution_count": 107,
   "metadata": {},
   "outputs": [
    {
     "ename": "Warning",
     "evalue": "Model order not supported",
     "output_type": "error",
     "traceback": [
      "\u001b[1;31m---------------------------------------------------------------------------\u001b[0m",
      "\u001b[1;31mWarning\u001b[0m                                   Traceback (most recent call last)",
      "Cell \u001b[1;32mIn[107], line 1\u001b[0m\n\u001b[1;32m----> 1\u001b[0m reaction_design \u001b[38;5;241m=\u001b[39m build_optimal_no_pandas([\u001b[38;5;124m'\u001b[39m\u001b[38;5;124ma\u001b[39m\u001b[38;5;124m'\u001b[39m, \u001b[38;5;124m'\u001b[39m\u001b[38;5;124mb\u001b[39m\u001b[38;5;124m'\u001b[39m, \u001b[38;5;124m'\u001b[39m\u001b[38;5;124mc\u001b[39m\u001b[38;5;124m'\u001b[39m, \u001b[38;5;124m'\u001b[39m\u001b[38;5;124mfwf\u001b[39m\u001b[38;5;124m'\u001b[39m], run_count\u001b[38;5;241m=\u001b[39m\u001b[38;5;241m18\u001b[39m, order\u001b[38;5;241m=\u001b[39mModelOrder\u001b[38;5;241m.\u001b[39mquadratic)\n\u001b[0;32m      2\u001b[0m \u001b[38;5;28mprint\u001b[39m(reaction_design)\n",
      "Cell \u001b[1;32mIn[105], line 34\u001b[0m, in \u001b[0;36mbuild_optimal_no_pandas\u001b[1;34m(factor_names, **kwargs)\u001b[0m\n\u001b[0;32m     32\u001b[0m \u001b[38;5;28;01mif\u001b[39;00m model \u001b[38;5;129;01mis\u001b[39;00m \u001b[38;5;28;01mNone\u001b[39;00m:\n\u001b[0;32m     33\u001b[0m     order \u001b[38;5;241m=\u001b[39m kwargs\u001b[38;5;241m.\u001b[39mget(\u001b[38;5;124m'\u001b[39m\u001b[38;5;124morder\u001b[39m\u001b[38;5;124m'\u001b[39m, \u001b[38;5;241m2\u001b[39m)\n\u001b[1;32m---> 34\u001b[0m     model \u001b[38;5;241m=\u001b[39m make_model_own(factor_names, order)\n\u001b[0;32m     36\u001b[0m run_count \u001b[38;5;241m=\u001b[39m kwargs\u001b[38;5;241m.\u001b[39mget(\u001b[38;5;124m'\u001b[39m\u001b[38;5;124mrun_count\u001b[39m\u001b[38;5;124m'\u001b[39m, \u001b[38;5;241m0\u001b[39m)\n\u001b[0;32m     38\u001b[0m \u001b[38;5;66;03m# first generate a valid starting design\u001b[39;00m\n",
      "Cell \u001b[1;32mIn[91], line 22\u001b[0m, in \u001b[0;36mmake_model_own\u001b[1;34m(factor_names, model_order, include_powers)\u001b[0m\n\u001b[0;32m     19\u001b[0m     \u001b[38;5;28;01mreturn\u001b[39;00m \u001b[38;5;124m\"\u001b[39m\u001b[38;5;124m+\u001b[39m\u001b[38;5;124m\"\u001b[39m\u001b[38;5;241m.\u001b[39mjoin([interaction_model, squared_terms, cubed_terms])\n\u001b[0;32m     21\u001b[0m \u001b[38;5;28;01melse\u001b[39;00m:\n\u001b[1;32m---> 22\u001b[0m     \u001b[38;5;28;01mraise\u001b[39;00m \u001b[38;5;167;01mWarning\u001b[39;00m(\u001b[38;5;124m\"\u001b[39m\u001b[38;5;124mModel order not supported\u001b[39m\u001b[38;5;124m\"\u001b[39m)\n",
      "\u001b[1;31mWarning\u001b[0m: Model order not supported"
     ]
    }
   ],
   "source": [
    "reaction_design = build_optimal_no_pandas(['a', 'b', 'c', 'fwf'], run_count=18, order=ModelOrder.quadratic)\n",
    "print(reaction_design)"
   ]
  },
  {
   "cell_type": "code",
   "execution_count": 110,
   "metadata": {},
   "outputs": [
    {
     "name": "stdout",
     "output_type": "stream",
     "text": [
      "[[-1.         -1.          1.        ]\n",
      " [-0.45454545 -0.45454545 -1.        ]\n",
      " [ 1.         -1.          1.        ]\n",
      " [ 1.         -1.         -1.        ]\n",
      " [-1.          1.         -1.        ]\n",
      " [ 0.27272727 -1.         -0.45454545]\n",
      " [ 1.         -0.27272727 -0.45454545]\n",
      " [-1.          1.          1.        ]\n",
      " [-0.45454545  0.45454545  0.63636364]\n",
      " [-1.         -1.         -1.        ]\n",
      " [ 0.45454545 -0.45454545  1.        ]\n",
      " [-1.          0.45454545 -0.45454545]\n",
      " [ 1.          1.         -1.        ]\n",
      " [ 1.          1.          1.        ]\n",
      " [-0.45454545  1.         -0.45454545]\n",
      " [ 0.45454545  0.45454545 -1.        ]\n",
      " [-1.         -0.63636364  0.45454545]\n",
      " [ 0.63636364  1.          0.45454545]]\n"
     ]
    }
   ],
   "source": [
    "reaction_design = build_optimal_no_pandas(['a', 'b', 'c'], run_count=18, order=3)\n",
    "print(reaction_design)"
   ]
  },
  {
   "cell_type": "markdown",
   "metadata": {},
   "source": []
  },
  {
   "cell_type": "code",
   "execution_count": 64,
   "metadata": {},
   "outputs": [
    {
     "name": "stdout",
     "output_type": "stream",
     "text": [
      "X [[ 1.00000000e+00 -2.32784834e-01  6.19389701e-01 -1.44184529e-01\n",
      "   5.41887791e-02  3.83643601e-01 -1.26143260e-02  2.37624895e-01]\n",
      " [ 1.00000000e+00  7.25941995e-01  9.05147454e-01  6.57084548e-01\n",
      "   5.26991780e-01  8.19291914e-01  3.82565464e-01  7.41579991e-01]\n",
      " [ 1.00000000e+00  7.72078776e-01  8.36211554e-01  6.45621193e-01\n",
      "   5.96105637e-01  6.99249763e-01  4.60240510e-01  5.84720731e-01]\n",
      " [ 1.00000000e+00  7.36183432e-01  7.90888963e-01  5.82239352e-01\n",
      "   5.41966046e-01  6.25505352e-01  3.98986424e-01  4.94705280e-01]\n",
      " [ 1.00000000e+00 -3.51572729e-02  1.28004637e-03 -4.50029396e-05\n",
      "   1.23603384e-03  1.63851872e-06 -4.34555789e-05  2.09737994e-09]\n",
      " [ 1.00000000e+00  8.66220943e-02  2.24134320e-01  1.94149842e-02\n",
      "   7.50338722e-03  5.02361933e-02  6.49959116e-04  1.12596550e-02]\n",
      " [ 1.00000000e+00  5.31021769e-01  2.43976769e-01  1.29556975e-01\n",
      "   2.81984119e-01  5.95246638e-02  1.49739706e-01  1.45226351e-02]\n",
      " [ 1.00000000e+00  5.06296950e-01  3.26408185e-01  1.65259468e-01\n",
      "   2.56336602e-01  1.06542303e-01  1.29782440e-01  3.47762797e-02]\n",
      " [ 1.00000000e+00  6.32066568e-01 -1.90851392e-01 -1.20630784e-01\n",
      "   3.99508147e-01  3.64242537e-02  2.52515743e-01 -6.95161950e-03]]\n",
      "full_func [1,a,b,a*b,pow(a, 2),pow(b, 2),pow(a, 3),pow(b, 3)]\n",
      "[[-0.23278483  0.6193897 ]\n",
      " [ 0.72594199  0.90514745]\n",
      " [ 0.77207878  0.83621155]\n",
      " [ 0.73618343  0.79088896]\n",
      " [-0.03515727  0.00128005]\n",
      " [ 0.08662209  0.22413432]\n",
      " [ 0.53102177  0.24397677]\n",
      " [ 0.50629695  0.32640818]\n",
      " [ 0.63206657 -0.19085139]]\n",
      "0\n",
      "a\n",
      "design [-0.23278483  0.6193897 ]\n",
      "1\n",
      "b\n",
      "design [-1.         0.6193897]\n",
      "0\n",
      "a\n",
      "design [0.72594199 0.90514745]\n",
      "1\n",
      "b\n",
      "design [0.27272727 0.90514745]\n",
      "0\n",
      "a\n",
      "design [0.77207878 0.83621155]\n",
      "1\n",
      "b\n",
      "design [1.         0.83621155]\n",
      "0\n",
      "a\n",
      "design [0.73618343 0.79088896]\n",
      "1\n",
      "b\n",
      "design [1.         0.79088896]\n",
      "0\n",
      "a\n",
      "design [-0.03515727  0.00128005]\n",
      "1\n",
      "b\n",
      "design [-1.          0.00128005]\n",
      "0\n",
      "a\n",
      "design [0.08662209 0.22413432]\n",
      "1\n",
      "b\n",
      "design [-0.45454545  0.22413432]\n",
      "0\n",
      "a\n",
      "design [0.53102177 0.24397677]\n",
      "1\n",
      "b\n",
      "design [-1.          0.24397677]\n",
      "0\n",
      "a\n",
      "design [0.50629695 0.32640818]\n",
      "1\n",
      "b\n",
      "design [0.27272727 0.32640818]\n",
      "0\n",
      "a\n",
      "design [ 0.63206657 -0.19085139]\n",
      "1\n",
      "b\n",
      "design [ 0.63636364 -0.19085139]\n",
      "[[-1.          1.        ]\n",
      " [ 0.27272727 -1.        ]\n",
      " [ 1.         -1.        ]\n",
      " [ 1.          1.        ]\n",
      " [-1.         -1.        ]\n",
      " [-0.45454545 -0.09090909]\n",
      " [-1.          0.45454545]\n",
      " [ 0.27272727  0.63636364]\n",
      " [ 0.63636364 -0.45454545]]\n",
      "0\n",
      "a\n",
      "1\n",
      "b\n",
      "0\n",
      "a\n",
      "design [ 0.27272727 -1.        ]\n",
      "1\n",
      "b\n",
      "design [-0.27272727 -1.        ]\n",
      "0\n",
      "a\n",
      "1\n",
      "b\n",
      "0\n",
      "a\n",
      "1\n",
      "b\n",
      "0\n",
      "a\n",
      "1\n",
      "b\n",
      "0\n",
      "a\n",
      "design [-0.45454545 -0.09090909]\n",
      "1\n",
      "b\n",
      "design [-0.63636364 -0.09090909]\n",
      "0\n",
      "a\n",
      "1\n",
      "b\n",
      "0\n",
      "a\n",
      "design [0.27272727 0.63636364]\n",
      "1\n",
      "b\n",
      "0\n",
      "a\n",
      "1\n",
      "b\n",
      "[[-1.          1.        ]\n",
      " [-0.27272727  1.        ]\n",
      " [ 1.         -1.        ]\n",
      " [ 1.          1.        ]\n",
      " [-1.         -1.        ]\n",
      " [-0.63636364 -0.27272727]\n",
      " [-1.          0.45454545]\n",
      " [ 0.45454545  0.63636364]\n",
      " [ 0.63636364 -0.45454545]]\n",
      "0\n",
      "a\n",
      "1\n",
      "b\n",
      "0\n",
      "a\n",
      "1\n",
      "b\n",
      "0\n",
      "a\n",
      "1\n",
      "b\n",
      "0\n",
      "a\n",
      "1\n",
      "b\n",
      "0\n",
      "a\n",
      "1\n",
      "b\n",
      "0\n",
      "a\n",
      "1\n",
      "b\n",
      "0\n",
      "a\n",
      "1\n",
      "b\n",
      "0\n",
      "a\n",
      "1\n",
      "b\n",
      "0\n",
      "a\n",
      "1\n",
      "b\n",
      "[[-1.          1.        ]\n",
      " [-0.27272727  1.        ]\n",
      " [ 1.         -1.        ]\n",
      " [ 1.          1.        ]\n",
      " [-1.         -1.        ]\n",
      " [-0.63636364 -0.27272727]\n",
      " [-1.          0.45454545]\n",
      " [ 0.45454545  0.63636364]\n",
      " [ 0.63636364 -0.45454545]]\n"
     ]
    }
   ],
   "source": [
    "# Example 1\n",
    "#import pandas as pd\n",
    "\n",
    "#reaction_design = build_optimal_own(['a', 'b'], run_count=5, model='a + b + a:b')\n",
    "reaction_design = build_optimal_own(['a', 'b'], run_count=9, order=ModelOrder.cubic)\n",
    "\n",
    "#reaction_design = dexpy.optimal.build_optimal(2, run_count=5, model='X1 + X2 + X1:X2')#\n",
    "print(reaction_design)\n",
    "#print(type(reaction_design))"
   ]
  },
  {
   "cell_type": "code",
   "execution_count": null,
   "metadata": {},
   "outputs": [],
   "source": []
  },
  {
   "cell_type": "code",
   "execution_count": 82,
   "metadata": {},
   "outputs": [
    {
     "name": "stdout",
     "output_type": "stream",
     "text": [
      "    X1   X2\n",
      "0  1.0 -1.0\n",
      "1  1.0  1.0\n",
      "2 -1.0  1.0\n",
      "3 -1.0 -1.0\n",
      "4 -1.0  1.0\n"
     ]
    }
   ],
   "source": [
    "print(reaction_design)"
   ]
  },
  {
   "cell_type": "code",
   "execution_count": 73,
   "metadata": {},
   "outputs": [
    {
     "name": "stdout",
     "output_type": "stream",
     "text": [
      "ModelDesc(lhs_termlist=[],\n",
      "          rhs_termlist=[Term([]),\n",
      "                        Term([EvalFactor('X1')]),\n",
      "                        Term([EvalFactor('X2')]),\n",
      "                        Term([EvalFactor('X1'), EvalFactor('X2')])])\n"
     ]
    }
   ],
   "source": [
    "b = bootstrap(['X1', 'X2'], 'X1 + X2 + X1:X2', 4)\n",
    "\n",
    "\n"
   ]
  },
  {
   "cell_type": "code",
   "execution_count": 26,
   "metadata": {},
   "outputs": [
    {
     "name": "stdout",
     "output_type": "stream",
     "text": [
      "(array([[-0.79328645,  0.85732278],\n",
      "       [-0.17061747,  0.81622036],\n",
      "       [ 0.09834362, -0.03874327],\n",
      "       [ 0.57610891,  0.22833971]]), DesignMatrix with shape (4, 4)\n",
      "  Intercept        X1        X2     X1:X2\n",
      "          1  -0.79329   0.85732  -0.68010\n",
      "          1  -0.17062   0.81622  -0.13926\n",
      "          1   0.09834  -0.03874  -0.00381\n",
      "          1   0.57611   0.22834   0.13155\n",
      "  Terms:\n",
      "    'Intercept' (column 0)\n",
      "    'X1' (column 1)\n",
      "    'X2' (column 2)\n",
      "    'X1:X2' (column 3))\n",
      "<class 'tuple'>\n",
      "<class 'numpy.ndarray'>\n",
      "<class 'patsy.design_info.DesignMatrix'>\n"
     ]
    }
   ],
   "source": [
    "b = own_bootstrap(['X1', 'X2'], 'X1 + X2 + X1:X2', 4)\n",
    "\n",
    "print(b)\n",
    "\n",
    "print(type(b))\n",
    "print(type(b[0]))\n",
    "print(type(b[1]))"
   ]
  },
  {
   "cell_type": "code",
   "execution_count": null,
   "metadata": {},
   "outputs": [],
   "source": []
  },
  {
   "cell_type": "code",
   "execution_count": 105,
   "metadata": {},
   "outputs": [
    {
     "name": "stdout",
     "output_type": "stream",
     "text": [
      "[[-0.08270149  0.05239263]\n",
      " [ 0.12613884 -0.84141597]\n",
      " [ 0.21338828  0.99737545]\n",
      " [ 0.67637472  0.97885651]]\n",
      "<class 'numpy.ndarray'>\n",
      "[[ 1.         -0.08270149  0.05239263 -0.00433295  0.00683954]\n",
      " [ 1.          0.12613884 -0.84141597 -0.10613523  0.01591101]\n",
      " [ 1.          0.21338828  0.99737545  0.21282824  0.04553456]\n",
      " [ 1.          0.67637472  0.97885651  0.6620738   0.45748276]]\n"
     ]
    },
    {
     "data": {
      "text/plain": [
       "DesignMatrix with shape (4, 5)\n",
       "  Intercept        X1        X2     X1:X2  pow(X1, 2)\n",
       "          1  -0.08270   0.05239  -0.00433     0.00684\n",
       "          1   0.12614  -0.84142  -0.10614     0.01591\n",
       "          1   0.21339   0.99738   0.21283     0.04553\n",
       "          1   0.67637   0.97886   0.66207     0.45748\n",
       "  Terms:\n",
       "    'Intercept' (column 0)\n",
       "    'X1' (column 1)\n",
       "    'X2' (column 2)\n",
       "    'X1:X2' (column 3)\n",
       "    'pow(X1, 2)' (column 4)"
      ]
     },
     "execution_count": 105,
     "metadata": {},
     "output_type": "execute_result"
    }
   ],
   "source": [
    "# THIS IS SOME VERSION OF OWN BOOTSTRAP THAT WORKS\n",
    "\n",
    "\n",
    "factor_names = ['X1', 'X2']\n",
    "run_count = 4\n",
    "model = 'X1 + X2 + X1:X2 + pow(X1,2)'\n",
    "\n",
    "factor_count = len(factor_names)\n",
    "x0 = np.zeros(factor_count)\n",
    "# add high/low bounds to constraint matrix\n",
    "constraint_matrix = np.zeros((factor_count * 2, factor_count))\n",
    "bounds = np.zeros(factor_count * 2)\n",
    "c = 0\n",
    "for f in range(factor_count):\n",
    "    constraint_matrix[c][f] = -1\n",
    "    bounds[c] = 1\n",
    "    c += 1\n",
    "    constraint_matrix[c][f] = 1\n",
    "    bounds[c] = 1\n",
    "    c += 1\n",
    "\n",
    "start_points = hit_and_run(x0, constraint_matrix, bounds, run_count)\n",
    "\n",
    "print(start_points)\n",
    "print(type(start_points))\n",
    "\n",
    "# Alternative dmatrix_maker\n",
    "\n",
    "#print(start_points[:,0])\n",
    "d = {}\n",
    "for i in range(0, factor_count):\n",
    "    d[factor_names[i]] = start_points[:,i]\n",
    "\n",
    "#d = {factor_names[0]: start_points[:,0], factor_names[1]: start_points[:,1]}  # This needs to be generalized to work with any number of factors\n",
    "#print(d)\n",
    "X = dmatrix(model, d)\n",
    "\n",
    "# dmatrix is nice but I could get around it. I would need to write a small function or make the formular input a bit more tricky\n",
    "\n",
    "print(X)\n",
    "dmatrix(model, d)\n",
    "#print(X)"
   ]
  },
  {
   "cell_type": "code",
   "execution_count": 97,
   "metadata": {},
   "outputs": [
    {
     "data": {
      "text/plain": [
       "odict_items([(Term([]), [SubtermInfo(factors=(), contrast_matrices={}, num_columns=1)]), (Term([EvalFactor('X1')]), [SubtermInfo(factors=(EvalFactor('X1'),), contrast_matrices={}, num_columns=1)]), (Term([EvalFactor('X2')]), [SubtermInfo(factors=(EvalFactor('X2'),), contrast_matrices={}, num_columns=1)]), (Term([EvalFactor('X1'), EvalFactor('X2')]), [SubtermInfo(factors=(EvalFactor('X1'), EvalFactor('X2')),\n",
       "            contrast_matrices={},\n",
       "            num_columns=1)]), (Term([EvalFactor('pow(X1, 2)')]), [SubtermInfo(factors=(EvalFactor('pow(X1, 2)'),),\n",
       "            contrast_matrices={},\n",
       "            num_columns=1)])])"
      ]
     },
     "execution_count": 97,
     "metadata": {},
     "output_type": "execute_result"
    }
   ],
   "source": [
    "X.design_info.term_codings.items()"
   ]
  },
  {
   "cell_type": "code",
   "execution_count": null,
   "metadata": {},
   "outputs": [],
   "source": []
  },
  {
   "cell_type": "markdown",
   "metadata": {},
   "source": [
    "# Full example - Helper functions above"
   ]
  },
  {
   "cell_type": "markdown",
   "metadata": {},
   "source": [
    "\n"
   ]
  },
  {
   "cell_type": "code",
   "execution_count": 98,
   "metadata": {},
   "outputs": [],
   "source": [
    "from ProcessOptimizer.space import Integer, Categorical, Real, Space\n",
    "import numpy as np\n",
    "\n",
    "space_design = Space(dimensions=[Real(10, 40, name='ul indicator'),\n",
    "            Real(20, 100, name='ul base'),\n",
    "            Real(20, 100, name='ul acid'),\n",
    "            Real(0, 50, name='ul water1'),\n",
    "            Real(0, 10, name='ul water2'),])\n",
    "                                 "
   ]
  },
  {
   "cell_type": "code",
   "execution_count": null,
   "metadata": {},
   "outputs": [],
   "source": []
  },
  {
   "cell_type": "code",
   "execution_count": null,
   "metadata": {},
   "outputs": [],
   "source": []
  },
  {
   "cell_type": "code",
   "execution_count": null,
   "metadata": {},
   "outputs": [],
   "source": []
  }
 ],
 "metadata": {
  "kernelspec": {
   "display_name": "Python 3",
   "language": "python",
   "name": "python3"
  },
  "language_info": {
   "codemirror_mode": {
    "name": "ipython",
    "version": 3
   },
   "file_extension": ".py",
   "mimetype": "text/x-python",
   "name": "python",
   "nbconvert_exporter": "python",
   "pygments_lexer": "ipython3",
   "version": "3.11.5"
  }
 },
 "nbformat": 4,
 "nbformat_minor": 2
}
