{
 "cells": [
  {
   "cell_type": "code",
   "execution_count": 1,
   "metadata": {},
   "outputs": [],
   "source": [
    "import dexpy.optimal\n",
    "from dexpy.model import make_model, ModelOrder\n",
    "from dexpy.design import coded_to_actual\n",
    "from patsy import dmatrix\n",
    "import numpy as np\n",
    "import ProcessOptimizer\n",
    "from ProcessOptimizer.space import Integer, Categorical, Real, Space\n",
    "import numpy as np"
   ]
  },
  {
   "cell_type": "code",
   "execution_count": 3,
   "metadata": {},
   "outputs": [
    {
     "name": "stdout",
     "output_type": "stream",
     "text": [
      "1.0.0_RUCT\n"
     ]
    }
   ],
   "source": [
    "print(ProcessOptimizer.__version__)"
   ]
  },
  {
   "cell_type": "markdown",
   "metadata": {},
   "source": [
    "# These cells are all the very early experimentation"
   ]
  },
  {
   "cell_type": "code",
   "execution_count": 3,
   "metadata": {},
   "outputs": [],
   "source": [
    "space_design = Space(dimensions=[Integer(10, 40, name='ul indicator'),\n",
    "         Integer(20, 100, name='ul base'),\n",
    "         Integer(20, 100, name='ul acid'),\n",
    "         Integer(0, 50, name='ul water1'),\n",
    "         Integer(0, 10, name='ul water2'),\n",
    "         Categorical([\"boric and citric\", \"citric only\"])])"
   ]
  },
  {
   "cell_type": "code",
   "execution_count": 4,
   "metadata": {},
   "outputs": [
    {
     "data": {
      "text/plain": [
       "DesignMatrix with shape (3, 4)\n",
       "  Intercept  a  b  a:b\n",
       "          1  1  4    4\n",
       "          1  2  5   10\n",
       "          1  3  6   18\n",
       "  Terms:\n",
       "    'Intercept' (column 0)\n",
       "    'a' (column 1)\n",
       "    'b' (column 2)\n",
       "    'a:b' (column 3)"
      ]
     },
     "execution_count": 4,
     "metadata": {},
     "output_type": "execute_result"
    }
   ],
   "source": [
    "dmatrix('a + b + a:b', data={'a': [1, 2, 3], 'b': [4, 5, 6]}, return_type='matrix')"
   ]
  },
  {
   "cell_type": "code",
   "execution_count": 134,
   "metadata": {},
   "outputs": [
    {
     "name": "stdout",
     "output_type": "stream",
     "text": [
      "[1 2 3]\n",
      "[4 5 6]\n"
     ]
    },
    {
     "data": {
      "text/plain": [
       "DesignMatrix with shape (3, 4)\n",
       "  Intercept  a  b  a:b\n",
       "          1  1  4    4\n",
       "          1  2  5   10\n",
       "          1  3  6   18\n",
       "  Terms:\n",
       "    'Intercept' (column 0)\n",
       "    'a' (column 1)\n",
       "    'b' (column 2)\n",
       "    'a:b' (column 3)"
      ]
     },
     "execution_count": 134,
     "metadata": {},
     "output_type": "execute_result"
    }
   ],
   "source": [
    "ab = np.array([[1, 2, 3], [4, 5, 6]])\n",
    "print(ab[0])\n",
    "print(ab[1])\n",
    "dmatrix('a + b + a:b', data={'a': ab[0], 'b': ab[1]}, return_type='matrix')"
   ]
  },
  {
   "cell_type": "code",
   "execution_count": null,
   "metadata": {},
   "outputs": [],
   "source": [
    "dmatrix('a + b + a:b', data={}, return_type='dataframe')"
   ]
  },
  {
   "cell_type": "code",
   "execution_count": 43,
   "metadata": {},
   "outputs": [
    {
     "name": "stderr",
     "output_type": "stream",
     "text": [
      "c:\\Users\\RUCT\\AppData\\Local\\anaconda3\\Lib\\site-packages\\dexpy\\optimal.py:114: FutureWarning: Series.__getitem__ treating keys as positions is deprecated. In a future version, integer keys will always be treated as labels (consistent with DataFrame behavior). To access a value by position, use `ser.iloc[pos]`\n",
      "  original_value = design_point[f]\n",
      "c:\\Users\\RUCT\\AppData\\Local\\anaconda3\\Lib\\site-packages\\dexpy\\optimal.py:122: FutureWarning: Series.__setitem__ treating keys as positions is deprecated. In a future version, integer keys will always be treated as labels (consistent with DataFrame behavior). To set a value by position, use `ser.iloc[pos] = value`\n",
      "  design_point[f] = low + ((high - low) / (steps - 1)) * s\n",
      "c:\\Users\\RUCT\\AppData\\Local\\anaconda3\\Lib\\site-packages\\dexpy\\optimal.py:135: FutureWarning: Series.__setitem__ treating keys as positions is deprecated. In a future version, integer keys will always be treated as labels (consistent with DataFrame behavior). To set a value by position, use `ser.iloc[pos] = value`\n",
      "  design_point[f] = low + ((high - low) / (steps - 1)) * best_step\n",
      "c:\\Users\\RUCT\\AppData\\Local\\anaconda3\\Lib\\site-packages\\dexpy\\optimal.py:146: FutureWarning: Series.__setitem__ treating keys as positions is deprecated. In a future version, integer keys will always be treated as labels (consistent with DataFrame behavior). To set a value by position, use `ser.iloc[pos] = value`\n",
      "  design_point[f] = original_value\n"
     ]
    }
   ],
   "source": [
    "reaction_design = dexpy.optimal.build_optimal(3, run_count=9, model='X1 + X2 + X1:X2 + X3 + X1:X3 + X2:X3 + X1:X2:X3 + X1**3', randomize=False)"
   ]
  },
  {
   "cell_type": "code",
   "execution_count": 44,
   "metadata": {},
   "outputs": [
    {
     "name": "stdout",
     "output_type": "stream",
     "text": [
      "    X1   X2   X3\n",
      "0  1.0 -1.0  1.0\n",
      "1  1.0 -1.0 -1.0\n",
      "2  1.0  1.0  1.0\n",
      "3  1.0  1.0 -1.0\n",
      "4 -1.0 -1.0  1.0\n",
      "5 -1.0  1.0  1.0\n",
      "6 -1.0 -1.0 -1.0\n",
      "7 -1.0  1.0 -1.0\n",
      "8  1.0 -1.0  1.0\n",
      "<class 'pandas.core.frame.DataFrame'>\n"
     ]
    }
   ],
   "source": [
    "print(reaction_design)\n",
    "print(type(reaction_design))"
   ]
  },
  {
   "cell_type": "code",
   "execution_count": 103,
   "metadata": {},
   "outputs": [
    {
     "name": "stderr",
     "output_type": "stream",
     "text": [
      "c:\\Users\\RUCT\\AppData\\Local\\anaconda3\\Lib\\site-packages\\dexpy\\optimal.py:114: FutureWarning: Series.__getitem__ treating keys as positions is deprecated. In a future version, integer keys will always be treated as labels (consistent with DataFrame behavior). To access a value by position, use `ser.iloc[pos]`\n",
      "  original_value = design_point[f]\n",
      "c:\\Users\\RUCT\\AppData\\Local\\anaconda3\\Lib\\site-packages\\dexpy\\optimal.py:122: FutureWarning: Series.__setitem__ treating keys as positions is deprecated. In a future version, integer keys will always be treated as labels (consistent with DataFrame behavior). To set a value by position, use `ser.iloc[pos] = value`\n",
      "  design_point[f] = low + ((high - low) / (steps - 1)) * s\n",
      "c:\\Users\\RUCT\\AppData\\Local\\anaconda3\\Lib\\site-packages\\dexpy\\optimal.py:135: FutureWarning: Series.__setitem__ treating keys as positions is deprecated. In a future version, integer keys will always be treated as labels (consistent with DataFrame behavior). To set a value by position, use `ser.iloc[pos] = value`\n",
      "  design_point[f] = low + ((high - low) / (steps - 1)) * best_step\n",
      "c:\\Users\\RUCT\\AppData\\Local\\anaconda3\\Lib\\site-packages\\dexpy\\optimal.py:146: FutureWarning: Series.__setitem__ treating keys as positions is deprecated. In a future version, integer keys will always be treated as labels (consistent with DataFrame behavior). To set a value by position, use `ser.iloc[pos] = value`\n",
      "  design_point[f] = original_value\n"
     ]
    },
    {
     "data": {
      "image/png": "[encoded data removed]",
      "text/plain": [
       "<Figure size 640x480 with 1 Axes>"
      ]
     },
     "metadata": {},
     "output_type": "display_data"
    }
   ],
   "source": [
    "import matplotlib.pyplot as plt\n",
    "\n",
    "for n in range(1):\n",
    "    reaction_design = dexpy.optimal.build_optimal(5, run_count=88, order=ModelOrder.quadratic, randomize=False)\n",
    "    #print(reaction_design)\n",
    "    \n",
    "    column_names = ['time', 'temp', 'geg', 'gege', 'gegegeq']\n",
    "    reaction_design.columns = column_names   # This is some pandas stuff\n",
    "\n",
    "    plt.scatter(reaction_design['time'], reaction_design['temp'])\n",
    "\n",
    "plt.show()"
   ]
  },
  {
   "cell_type": "code",
   "execution_count": 74,
   "metadata": {},
   "outputs": [
    {
     "name": "stdout",
     "output_type": "stream",
     "text": [
      "        time       temp\n",
      "0  50.000000  80.000000\n",
      "1  50.000000  90.000000\n",
      "2  50.000000  84.545455\n",
      "3  40.000000  80.000000\n",
      "4  44.545455  80.000000\n",
      "5  40.000000  90.000000\n",
      "6  40.000000  84.545455\n",
      "7  45.454545  85.454545\n",
      "8  44.545455  90.000000\n"
     ]
    }
   ],
   "source": [
    "import dexpy.optimal\n",
    "from dexpy.model import ModelOrder\n",
    "\n",
    "column_names = ['time', 'temp']\n",
    "actual_lows = { 'time': 40, 'temp': 80 }\n",
    "actual_highs = { 'time': 50, 'temp': 90 }\n",
    "reaction_design.columns = column_names\n",
    "print(coded_to_actual(reaction_design, actual_lows, actual_highs))"
   ]
  },
  {
   "cell_type": "code",
   "execution_count": 69,
   "metadata": {},
   "outputs": [
    {
     "name": "stderr",
     "output_type": "stream",
     "text": [
      "c:\\Users\\RUCT\\AppData\\Local\\anaconda3\\Lib\\site-packages\\dexpy\\optimal.py:114: FutureWarning: Series.__getitem__ treating keys as positions is deprecated. In a future version, integer keys will always be treated as labels (consistent with DataFrame behavior). To access a value by position, use `ser.iloc[pos]`\n",
      "  original_value = design_point[f]\n",
      "c:\\Users\\RUCT\\AppData\\Local\\anaconda3\\Lib\\site-packages\\dexpy\\optimal.py:122: FutureWarning: Series.__setitem__ treating keys as positions is deprecated. In a future version, integer keys will always be treated as labels (consistent with DataFrame behavior). To set a value by position, use `ser.iloc[pos] = value`\n",
      "  design_point[f] = low + ((high - low) / (steps - 1)) * s\n",
      "c:\\Users\\RUCT\\AppData\\Local\\anaconda3\\Lib\\site-packages\\dexpy\\optimal.py:135: FutureWarning: Series.__setitem__ treating keys as positions is deprecated. In a future version, integer keys will always be treated as labels (consistent with DataFrame behavior). To set a value by position, use `ser.iloc[pos] = value`\n",
      "  design_point[f] = low + ((high - low) / (steps - 1)) * best_step\n",
      "c:\\Users\\RUCT\\AppData\\Local\\anaconda3\\Lib\\site-packages\\dexpy\\optimal.py:146: FutureWarning: Series.__setitem__ treating keys as positions is deprecated. In a future version, integer keys will always be treated as labels (consistent with DataFrame behavior). To set a value by position, use `ser.iloc[pos] = value`\n",
      "  design_point[f] = original_value\n"
     ]
    },
    {
     "data": {
      "image/png": "[encoded data removed]",
      "text/plain": [
       "<Figure size 640x480 with 1 Axes>"
      ]
     },
     "metadata": {},
     "output_type": "display_data"
    }
   ],
   "source": [
    "import seaborn as sns\n",
    "import matplotlib.pyplot as plt\n",
    "\n",
    "reaction_design = dexpy.optimal.build_optimal(2, order=ModelOrder.quadratic)\n",
    "column_names = ['time', 'temp']\n",
    "reaction_design.columns = column_names\n",
    "\n",
    "plt.scatter(reaction_design['time'], reaction_design['temp'])\n",
    "\n",
    "\n",
    "#fg = sns.lmplot(data=reaction_design, fit_reg=False)\n",
    "#ax = fg.axes[0, 0]\n",
    "#ax.set_xticks([-1, 0, 1])\n",
    "#ax.set_xticklabels(['40 min', '45 min', '50 min'])\n",
    "#ax.set_yticks([-1, 0, 1])\n",
    "#ax.set_yticklabels(['80C', '85C', '90C'])\n",
    "plt.show()"
   ]
  },
  {
   "cell_type": "markdown",
   "metadata": {},
   "source": [
    "# TONS OF TEST CODE BELOW"
   ]
  },
  {
   "cell_type": "code",
   "execution_count": 13,
   "metadata": {},
   "outputs": [],
   "source": [
    "from patsy import dmatrix, ModelDesc\n",
    "\n",
    "import math\n",
    "\n",
    "from dexpy.model import make_model, ModelOrder  # See if I can get these removed in the end"
   ]
  },
  {
   "cell_type": "markdown",
   "metadata": {},
   "source": [
    "## copy/paste some functions from dexpy"
   ]
  },
  {
   "cell_type": "markdown",
   "metadata": {},
   "source": [
    "Some basic functions"
   ]
  },
  {
   "cell_type": "code",
   "execution_count": 106,
   "metadata": {},
   "outputs": [],
   "source": [
    "def hit_and_run(x0, constraint_matrix, bounds, n_samples, thin = 1):\n",
    "    \"\"\"A basic implementation of the hit and run sampler\n",
    "\n",
    "    :param x0: The starting value of sampler.\n",
    "    :param constraint_matrix: A matrix of constraints in the form Ax <= b.\n",
    "    :param bounds: A vector of bounds in the form Ax <= b.\n",
    "    :param n_samples: The numbers of samples to return.\n",
    "    :param thin: The thinning factor. Retain every 'thin' sample (e.g. if thin = 2, retain every 2nd sample)\n",
    "\n",
    "    This function is from https://github.com/statease/dexpy\n",
    "    Copyright 2016 Stat-Ease, Inc.\n",
    "    License: Apache License, Version 2.0\n",
    "    License link: https://github.com/statease/dexpy/blob/master/LICENSE\n",
    "    \"\"\"\n",
    "    x = np.copy(x0)\n",
    "    p = len(x)\n",
    "\n",
    "    out_samples = np.zeros((n_samples, p))\n",
    "\n",
    "    for i in range(0, n_samples):\n",
    "        thin_count = 0\n",
    "\n",
    "        while thin_count < thin:\n",
    "            thin_count = thin_count + 1\n",
    "\n",
    "            random_dir = np.random.normal(0.0, 1.0, p)\n",
    "            random_dir = random_dir / np.linalg.norm(random_dir)\n",
    "\n",
    "            denom = constraint_matrix.dot(random_dir)\n",
    "            intersections = (bounds - constraint_matrix.dot(x)) / denom\n",
    "            t_low  = np.max(intersections[denom < 0])\n",
    "            t_high  = np.min(intersections[denom > 0])\n",
    "\n",
    "            u = np.random.uniform(0, 1)\n",
    "            random_distance = t_low + u * (t_high - t_low)\n",
    "            x_new = x + random_distance * random_dir\n",
    "\n",
    "        out_samples[i, ] = x_new\n",
    "        x = x_new\n",
    "\n",
    "    return(out_samples)"
   ]
  },
  {
   "cell_type": "code",
   "execution_count": 142,
   "metadata": {},
   "outputs": [],
   "source": [
    "def bootstrap(factor_names, model, run_count):\n",
    "    \"\"\"Create a minimal starting design that is non-singular.\"\"\"\n",
    "    md = ModelDesc.from_formula(model)    # Potentially remove this dependency - Not as important as we look to still be using dmatrix from patsy\n",
    "    model_size = len(md.rhs_termlist)\n",
    "    if run_count == 0:\n",
    "        run_count = model_size\n",
    "    if model_size > run_count:\n",
    "        raise ValueError(\"Can't build a design of size {} \"\n",
    "                         \"for a model of rank {}. \"\n",
    "                         \"Model: '{}'\".format(run_count, model_size, model))\n",
    "\n",
    "    factor_count = len(factor_names)\n",
    "    x0 = np.zeros(factor_count)\n",
    "    # add high/low bounds to constraint matrix\n",
    "    constraint_matrix = np.zeros((factor_count * 2, factor_count))\n",
    "    bounds = np.zeros(factor_count * 2)\n",
    "    c = 0\n",
    "    for f in range(factor_count):\n",
    "        constraint_matrix[c][f] = -1\n",
    "        bounds[c] = 1\n",
    "        c += 1\n",
    "        constraint_matrix[c][f] = 1\n",
    "        bounds[c] = 1\n",
    "        c += 1\n",
    "\n",
    "    start_points = hit_and_run(x0, constraint_matrix, bounds, run_count)\n",
    "    print(start_points)\n",
    "    print(type(start_points))\n",
    "\n",
    "    d = pd.DataFrame(start_points, columns=factor_names)   # I need to remove this dependency - Change function to something that doesn't require pandas but still works\n",
    "    #d = np.array\n",
    "    #print(d)  # This is something that I need to remove - Just for testing purposes\n",
    "    X = dmatrix(model, d)\n",
    "    #print(X)  # This is something that I need to remove - Just for testing purposes\n",
    "\n",
    "    return (d, X)"
   ]
  },
  {
   "cell_type": "markdown",
   "metadata": {},
   "source": [
    "Now also in my own version"
   ]
  },
  {
   "cell_type": "code",
   "execution_count": 148,
   "metadata": {},
   "outputs": [],
   "source": [
    "def own_bootstrap(factor_names, model, run_count):\n",
    "    \"\"\"Create a minimal starting design that is non-singular.\n",
    "    \n",
    "    \n",
    "    This function is modified from https://github.com/statease/dexpy\n",
    "    Copyright 2016 Stat-Ease, Inc.\n",
    "    License: Apache License, Version 2.0\n",
    "    License link: https://github.com/statease/dexpy/blob/master/LICENSE\n",
    "    \"\"\"\n",
    "    md = ModelDesc.from_formula(model)    # Potentially remove this dependency - Not as important as we look to still be using dmatrix from patsy\n",
    "    model_size = len(md.rhs_termlist)\n",
    "    if run_count == 0:\n",
    "        run_count = model_size\n",
    "    if model_size > run_count:\n",
    "        raise ValueError(\"Can't build a design of size {} \"\n",
    "                         \"for a model of rank {}. \"\n",
    "                         \"Model: '{}'\".format(run_count, model_size, model))\n",
    "\n",
    "    factor_count = len(factor_names)\n",
    "    x0 = np.zeros(factor_count)\n",
    "    # add high/low bounds to constraint matrix\n",
    "    constraint_matrix = np.zeros((factor_count * 2, factor_count))\n",
    "    bounds = np.zeros(factor_count * 2)\n",
    "    c = 0\n",
    "    for f in range(factor_count):\n",
    "        constraint_matrix[c][f] = -1\n",
    "        bounds[c] = 1\n",
    "        c += 1\n",
    "        constraint_matrix[c][f] = 1\n",
    "        bounds[c] = 1\n",
    "        c += 1\n",
    "\n",
    "    start_points = hit_and_run(x0, constraint_matrix, bounds, run_count)\n",
    "    #print(start_points)\n",
    "    #print(factor_names)\n",
    "\n",
    "    d = start_points\n",
    "\n",
    "    d_dict = {}\n",
    "    for i in range(0, factor_count):\n",
    "        d_dict[factor_names[i]] = start_points[:,i]\n",
    "\n",
    "    X = dmatrix(model, d_dict, return_type='matrix')\n",
    "\n",
    "    return (d, X)"
   ]
  },
  {
   "cell_type": "code",
   "execution_count": 90,
   "metadata": {},
   "outputs": [],
   "source": [
    "#bootstrap(factor_names, model, run_count)\n",
    "\n",
    "#How does d and X change when I change away from pandas\n",
    "\n",
    "\n",
    "# NEED TO FIND EXAMPLE FACTOR NAMES AND MODEL TO TEST THIS FUNCTION\n",
    "\n"
   ]
  },
  {
   "cell_type": "code",
   "execution_count": 91,
   "metadata": {},
   "outputs": [
    {
     "data": {
      "text/plain": [
       "DesignMatrix with shape (3, 4)\n",
       "  Intercept  a  b  a:b\n",
       "          1  1  4    4\n",
       "          1  2  5   10\n",
       "          1  3  6   18\n",
       "  Terms:\n",
       "    'Intercept' (column 0)\n",
       "    'a' (column 1)\n",
       "    'b' (column 2)\n",
       "    'a:b' (column 3)"
      ]
     },
     "execution_count": 91,
     "metadata": {},
     "output_type": "execute_result"
    }
   ],
   "source": [
    "dmatrix('a + b + a:b', data={'a': [1, 2, 3], 'b': [4, 5, 6]}, return_type='matrix')"
   ]
  },
  {
   "cell_type": "markdown",
   "metadata": {},
   "source": [
    "Below are utility functions that do not use anything but np. I probably do not need to change anything here but time will tell"
   ]
  },
  {
   "cell_type": "code",
   "execution_count": 92,
   "metadata": {},
   "outputs": [],
   "source": [
    "def update(XtXi, new_point, old_point):\n",
    "    \"\"\"rank-2 update of the variance-covariance matrix\n",
    "\n",
    "    Equation (6) from Meyer and Nachtsheim :cite:`MeyerNachtsheim1995`.\n",
    "    \"\"\"\n",
    "    F2 = np.vstack((new_point, old_point))\n",
    "    F1 = F2.T.copy()\n",
    "    F1[:,1] *= -1\n",
    "    FD = np.dot(F2, XtXi)\n",
    "    I2x2 = np.identity(2) + np.dot(FD, F1)\n",
    "    Inverse2x2 = np.linalg.inv(I2x2)\n",
    "    F2x2FD = np.dot(np.dot(F1, Inverse2x2), FD)\n",
    "    return XtXi - np.dot(XtXi, F2x2FD)\n",
    "\n",
    "def expand_point(design_point, code):\n",
    "    \"\"\"Converts a point in factor space to conform with the X matrix.\"\"\"\n",
    "    return np.array(eval(code, {}, design_point))\n",
    "\n",
    "def delta(X, XtXi, row, new_point):\n",
    "    \"\"\"Calculates the change in D-optimality from exchanging a point.\n",
    "\n",
    "    This is equation (1) in Meyer and Nachtsheim :cite:`MeyerNachtsheim1995`.\n",
    "    \"\"\"\n",
    "    old_point = X[row]\n",
    "\n",
    "    added_variance = np.dot(new_point, np.dot(XtXi, new_point.T))\n",
    "    removed_variance = np.dot(old_point, np.dot(XtXi, old_point.T))\n",
    "    covariance = np.dot(new_point, np.dot(XtXi, old_point.T))\n",
    "    return (\n",
    "        1 + (added_variance - removed_variance) +\n",
    "            (covariance * covariance - added_variance * removed_variance)\n",
    "    )\n"
   ]
  },
  {
   "cell_type": "markdown",
   "metadata": {},
   "source": [
    "This is the main function. It is important that it works. Result does not nessesarily have to be the same as in dexpy.\n",
    "Maybe I can avoid using dexpy.design.get_factor_names(factor_count). It simply gives X1, X2 etc. \n",
    "I might be able to just pipe in the names from the defined space group.\n"
   ]
  },
  {
   "cell_type": "code",
   "execution_count": 127,
   "metadata": {},
   "outputs": [],
   "source": [
    "def build_optimal_own(factor_count, **kwargs):\n",
    "    r\"\"\"Builds an optimal design.\n",
    "\n",
    "    This uses the Coordinate-Exchange algorithm from Meyer and Nachtsheim 1995\n",
    "    :cite:`MeyerNachtsheim1995`.\n",
    "\n",
    "    :param factor_count: The number of factors to build for.\n",
    "    :type factor_count: integer\n",
    "\n",
    "    :Keyword Arguments:\n",
    "        * **order** (:class:`ModelOrder <dexpy.model.ModelOrder>`) -- \\\n",
    "            Builds a design for this order model. \\\n",
    "            Mutually exclusive with the **model** parameter.\n",
    "        * **model** (`patsy formula <https://patsy.readthedocs.io>`_) -- \\\n",
    "            Builds a design for this model formula. \\\n",
    "            Mutually exclusive with the **order** parameter.\n",
    "        * **run_count** (`integer`) -- \\\n",
    "            The number of runs to use in the design. This must be equal\\\n",
    "            to or greater than the rank of the model.\n",
    "    \"\"\"\n",
    "    factor_names = dexpy.design.get_factor_names(factor_count)  # See if this can be replaced with something the uses po.Space instead\n",
    "    #factor_names = ['X1', 'X2']\n",
    "\n",
    "    model = kwargs.get('model', None)\n",
    "    if model is None:\n",
    "        order = kwargs.get('order', ModelOrder.quadratic)\n",
    "        model = make_model(factor_names, order, True)\n",
    "\n",
    "    run_count = kwargs.get('run_count', 0)\n",
    "\n",
    "    print(factor_names, model, run_count)\n",
    "\n",
    "    # first generate a valid starting design\n",
    "    (design, X) = own_bootstrap(factor_names, model, run_count)\n",
    "    #(design, X) = bootstrap(factor_names, model, run_count)\n",
    "\n",
    "    print(design)\n",
    "\n",
    "\n",
    "    # This seems like a lot of work to make the full_func string\n",
    "    functions = []\n",
    "    for _, subterms in X.design_info.term_codings.items():\n",
    "        sub_funcs = []\n",
    "        for subterm in subterms:\n",
    "            for factor in subterm.factors:\n",
    "                eval_code = X.design_info.factor_infos[factor].state['eval_code']\n",
    "                if eval_code[0] == 'I':\n",
    "                    eval_code = eval_code[1:]\n",
    "                sub_funcs.append(eval_code)\n",
    "        if not sub_funcs:\n",
    "            functions.append(\"1\") # intercept\n",
    "        else:\n",
    "            functions.append(\"*\".join(sub_funcs))\n",
    "\n",
    "    full_func = \"[\" + \",\".join(functions) + \"]\"\n",
    "    code = compile(full_func, \"<string>\", \"eval\")\n",
    "\n",
    "\n",
    "\n",
    "    steps = 12\n",
    "    low = -1\n",
    "    high = 1\n",
    "\n",
    "# DO I REALLY NEED A palsy dmatrix X?\n",
    "\n",
    "\n",
    "    XtXi = np.linalg.inv(np.dot(np.transpose(X), X))\n",
    "    (_, d_optimality) = np.linalg.slogdet(XtXi)\n",
    "\n",
    "    design_improved = True\n",
    "    swaps = 0\n",
    "    evals = 0\n",
    "    min_change = 1.0 + np.finfo(float).eps\n",
    "    while design_improved:\n",
    "\n",
    "        design_improved = False\n",
    "        #print(design)\n",
    "        for i in range(0, len(design)):\n",
    "\n",
    "            # I NEED TO MAKE THE DICT INTO SOMETHING ELSE SUCH AS NUMPY ARRAY OR FIGURE OUT HOW TO DO THE LINE BELOW WITH A DICT\n",
    "            # I do not want to use a DICT. I want to use a numpy array\n",
    "            # I need to test d_matrix taking a numpy array instead of a dict\n",
    "\n",
    "            #design_point = design.iloc[i]   # This is some pandas stuff that I need to remove\n",
    "            print(\"this is the design point\")\n",
    "            print(design.keys()[0])\n",
    "            design_point = design.keys()[i]\n",
    "\n",
    "            \n",
    "\n",
    "            for f in range(0, factor_count):\n",
    "\n",
    "                original_value = design_point[f]\n",
    "                original_expanded = X[i]\n",
    "                best_step = -1\n",
    "                best_point = []\n",
    "                best_change = min_change\n",
    "\n",
    "                for s in range(0, steps):\n",
    "\n",
    "                    design_point[f] = low + ((high - low) / (steps - 1)) * s\n",
    "                    new_point = expand_point(design_point, code)\n",
    "                    change_in_d = delta(X, XtXi, i, new_point)\n",
    "                    evals += 1\n",
    "\n",
    "                    if change_in_d - best_change > np.finfo(float).eps:\n",
    "                        best_point = new_point\n",
    "                        best_step = s\n",
    "                        best_change = change_in_d\n",
    "\n",
    "                if best_step >= 0:\n",
    "\n",
    "                    # update X with the best point\n",
    "                    design_point[f] = low + ((high - low) / (steps - 1)) * best_step\n",
    "                    XtXi = update(XtXi, best_point, X[i])\n",
    "                    X[i] = best_point\n",
    "\n",
    "                    d_optimality -= math.log(best_change)\n",
    "                    design_improved = True\n",
    "                    swaps += 1\n",
    "\n",
    "                else:\n",
    "\n",
    "                    # restore the original design point value\n",
    "                    design_point[f] = original_value\n",
    "                    X[i] = original_expanded\n",
    "\n",
    "    #logging.info(\"{} swaps evaluated, {} executed ({:.2f}%)\".format(evals, swaps, 100*(swaps / evals)))  # Maybe reconsider this. Outcomment for now\n",
    "\n",
    "    return design"
   ]
  },
  {
   "cell_type": "markdown",
   "metadata": {},
   "source": [
    "# WRITE SOME TESTS TO SEE IF THE THINGS I MESS WITH WORK: THEY ARE BELOW HERE"
   ]
  },
  {
   "cell_type": "markdown",
   "metadata": {},
   "source": []
  },
  {
   "cell_type": "code",
   "execution_count": 128,
   "metadata": {},
   "outputs": [
    {
     "name": "stdout",
     "output_type": "stream",
     "text": [
      "['X1', 'X2'] X1 + X2 + X1:X2 4\n",
      "{'X1': array([ 0.35562103,  0.90588376, -0.10788743,  0.67303516]), 'X2': array([-0.11645201, -0.34850116, -0.46293467,  0.70110242])}\n",
      "this is the design point\n"
     ]
    },
    {
     "ename": "TypeError",
     "evalue": "'dict_keys' object is not subscriptable",
     "output_type": "error",
     "traceback": [
      "\u001b[1;31m---------------------------------------------------------------------------\u001b[0m",
      "\u001b[1;31mTypeError\u001b[0m                                 Traceback (most recent call last)",
      "Cell \u001b[1;32mIn[128], line 4\u001b[0m\n\u001b[0;32m      1\u001b[0m \u001b[38;5;66;03m# Example 1\u001b[39;00m\n\u001b[0;32m      2\u001b[0m \u001b[38;5;28;01mimport\u001b[39;00m \u001b[38;5;21;01mpandas\u001b[39;00m \u001b[38;5;28;01mas\u001b[39;00m \u001b[38;5;21;01mpd\u001b[39;00m\n\u001b[1;32m----> 4\u001b[0m reaction_design \u001b[38;5;241m=\u001b[39m build_optimal_own(\u001b[38;5;241m2\u001b[39m, run_count\u001b[38;5;241m=\u001b[39m\u001b[38;5;241m4\u001b[39m, model\u001b[38;5;241m=\u001b[39m\u001b[38;5;124m'\u001b[39m\u001b[38;5;124mX1 + X2 + X1:X2\u001b[39m\u001b[38;5;124m'\u001b[39m)\n",
      "Cell \u001b[1;32mIn[127], line 84\u001b[0m, in \u001b[0;36mbuild_optimal_own\u001b[1;34m(factor_count, **kwargs)\u001b[0m\n\u001b[0;32m     78\u001b[0m \u001b[38;5;28;01mfor\u001b[39;00m i \u001b[38;5;129;01min\u001b[39;00m \u001b[38;5;28mrange\u001b[39m(\u001b[38;5;241m0\u001b[39m, \u001b[38;5;28mlen\u001b[39m(design)):\n\u001b[0;32m     79\u001b[0m \n\u001b[0;32m     80\u001b[0m     \u001b[38;5;66;03m# I NEED TO MAKE THE DICT INTO SOMETHING ELSE SUCH AS NUMPY ARRAY OR FIGURE OUT HOW TO DO THE LINE BELOW WITH A DICT\u001b[39;00m\n\u001b[0;32m     81\u001b[0m \n\u001b[0;32m     82\u001b[0m     \u001b[38;5;66;03m#design_point = design.iloc[i]   # This is some pandas stuff that I need to remove\u001b[39;00m\n\u001b[0;32m     83\u001b[0m     \u001b[38;5;28mprint\u001b[39m(\u001b[38;5;124m\"\u001b[39m\u001b[38;5;124mthis is the design point\u001b[39m\u001b[38;5;124m\"\u001b[39m)\n\u001b[1;32m---> 84\u001b[0m     \u001b[38;5;28mprint\u001b[39m(design\u001b[38;5;241m.\u001b[39mkeys()[\u001b[38;5;241m0\u001b[39m])\n\u001b[0;32m     85\u001b[0m     design_point \u001b[38;5;241m=\u001b[39m design\u001b[38;5;241m.\u001b[39mkeys()[i]\n\u001b[0;32m     89\u001b[0m     \u001b[38;5;28;01mfor\u001b[39;00m f \u001b[38;5;129;01min\u001b[39;00m \u001b[38;5;28mrange\u001b[39m(\u001b[38;5;241m0\u001b[39m, factor_count):\n",
      "\u001b[1;31mTypeError\u001b[0m: 'dict_keys' object is not subscriptable"
     ]
    }
   ],
   "source": [
    "# Example 1\n",
    "#import pandas as pd\n",
    "\n",
    "reaction_design = build_optimal_own(2, run_count=4, model='X1 + X2 + X1:X2')\n",
    "#print(reaction_design)\n",
    "#print(type(reaction_design))"
   ]
  },
  {
   "cell_type": "code",
   "execution_count": 143,
   "metadata": {},
   "outputs": [
    {
     "name": "stdout",
     "output_type": "stream",
     "text": [
      "[[-1.50699516e-01 -1.93909790e-01]\n",
      " [ 2.26702110e-01 -8.83458591e-02]\n",
      " [ 1.74713520e-04 -5.25353716e-01]\n",
      " [-1.02848780e-01 -7.30391022e-01]]\n",
      "<class 'numpy.ndarray'>\n"
     ]
    }
   ],
   "source": [
    "b = bootstrap(['X1', 'X2'], 'X1 + X2 + X1:X2', 4)\n",
    "\n",
    "\n"
   ]
  },
  {
   "cell_type": "code",
   "execution_count": 150,
   "metadata": {},
   "outputs": [
    {
     "name": "stdout",
     "output_type": "stream",
     "text": [
      "(array([[ 0.15172183, -0.78044796],\n",
      "       [ 0.16325276, -0.78505534],\n",
      "       [-0.11131114, -0.93080188],\n",
      "       [-0.34114155,  0.04662948]]), DesignMatrix with shape (4, 4)\n",
      "  Intercept        X1        X2     X1:X2\n",
      "          1   0.15172  -0.78045  -0.11841\n",
      "          1   0.16325  -0.78506  -0.12816\n",
      "          1  -0.11131  -0.93080   0.10361\n",
      "          1  -0.34114   0.04663  -0.01591\n",
      "  Terms:\n",
      "    'Intercept' (column 0)\n",
      "    'X1' (column 1)\n",
      "    'X2' (column 2)\n",
      "    'X1:X2' (column 3))\n",
      "<class 'tuple'>\n",
      "<class 'numpy.ndarray'>\n",
      "<class 'patsy.design_info.DesignMatrix'>\n"
     ]
    }
   ],
   "source": [
    "b = own_bootstrap(['X1', 'X2'], 'X1 + X2 + X1:X2', 4)\n",
    "\n",
    "print(b)\n",
    "\n",
    "print(type(b))\n",
    "print(type(b[0]))\n",
    "print(type(b[1]))"
   ]
  },
  {
   "cell_type": "code",
   "execution_count": 105,
   "metadata": {},
   "outputs": [
    {
     "name": "stdout",
     "output_type": "stream",
     "text": [
      "[[-0.08270149  0.05239263]\n",
      " [ 0.12613884 -0.84141597]\n",
      " [ 0.21338828  0.99737545]\n",
      " [ 0.67637472  0.97885651]]\n",
      "<class 'numpy.ndarray'>\n",
      "[[ 1.         -0.08270149  0.05239263 -0.00433295  0.00683954]\n",
      " [ 1.          0.12613884 -0.84141597 -0.10613523  0.01591101]\n",
      " [ 1.          0.21338828  0.99737545  0.21282824  0.04553456]\n",
      " [ 1.          0.67637472  0.97885651  0.6620738   0.45748276]]\n"
     ]
    },
    {
     "data": {
      "text/plain": [
       "DesignMatrix with shape (4, 5)\n",
       "  Intercept        X1        X2     X1:X2  pow(X1, 2)\n",
       "          1  -0.08270   0.05239  -0.00433     0.00684\n",
       "          1   0.12614  -0.84142  -0.10614     0.01591\n",
       "          1   0.21339   0.99738   0.21283     0.04553\n",
       "          1   0.67637   0.97886   0.66207     0.45748\n",
       "  Terms:\n",
       "    'Intercept' (column 0)\n",
       "    'X1' (column 1)\n",
       "    'X2' (column 2)\n",
       "    'X1:X2' (column 3)\n",
       "    'pow(X1, 2)' (column 4)"
      ]
     },
     "execution_count": 105,
     "metadata": {},
     "output_type": "execute_result"
    }
   ],
   "source": [
    "factor_names = ['X1', 'X2']\n",
    "run_count = 4\n",
    "model = 'X1 + X2 + X1:X2 + pow(X1,2)'\n",
    "\n",
    "factor_count = len(factor_names)\n",
    "x0 = np.zeros(factor_count)\n",
    "# add high/low bounds to constraint matrix\n",
    "constraint_matrix = np.zeros((factor_count * 2, factor_count))\n",
    "bounds = np.zeros(factor_count * 2)\n",
    "c = 0\n",
    "for f in range(factor_count):\n",
    "    constraint_matrix[c][f] = -1\n",
    "    bounds[c] = 1\n",
    "    c += 1\n",
    "    constraint_matrix[c][f] = 1\n",
    "    bounds[c] = 1\n",
    "    c += 1\n",
    "\n",
    "start_points = hit_and_run(x0, constraint_matrix, bounds, run_count)\n",
    "\n",
    "print(start_points)\n",
    "print(type(start_points))\n",
    "\n",
    "# Alternative dmatrix_maker\n",
    "\n",
    "#print(start_points[:,0])\n",
    "d = {}\n",
    "for i in range(0, factor_count):\n",
    "    d[factor_names[i]] = start_points[:,i]\n",
    "\n",
    "#d = {factor_names[0]: start_points[:,0], factor_names[1]: start_points[:,1]}  # This needs to be generalized to work with any number of factors\n",
    "#print(d)\n",
    "X = dmatrix(model, d)\n",
    "\n",
    "# dmatrix is nice but I could get around it. I would need to write a small function or make the formular input a bit more tricky\n",
    "\n",
    "print(X)\n",
    "dmatrix(model, d)\n",
    "#print(X)"
   ]
  },
  {
   "cell_type": "code",
   "execution_count": 97,
   "metadata": {},
   "outputs": [
    {
     "data": {
      "text/plain": [
       "odict_items([(Term([]), [SubtermInfo(factors=(), contrast_matrices={}, num_columns=1)]), (Term([EvalFactor('X1')]), [SubtermInfo(factors=(EvalFactor('X1'),), contrast_matrices={}, num_columns=1)]), (Term([EvalFactor('X2')]), [SubtermInfo(factors=(EvalFactor('X2'),), contrast_matrices={}, num_columns=1)]), (Term([EvalFactor('X1'), EvalFactor('X2')]), [SubtermInfo(factors=(EvalFactor('X1'), EvalFactor('X2')),\n",
       "            contrast_matrices={},\n",
       "            num_columns=1)]), (Term([EvalFactor('pow(X1, 2)')]), [SubtermInfo(factors=(EvalFactor('pow(X1, 2)'),),\n",
       "            contrast_matrices={},\n",
       "            num_columns=1)])])"
      ]
     },
     "execution_count": 97,
     "metadata": {},
     "output_type": "execute_result"
    }
   ],
   "source": [
    "X.design_info.term_codings.items()"
   ]
  },
  {
   "cell_type": "code",
   "execution_count": null,
   "metadata": {},
   "outputs": [],
   "source": []
  },
  {
   "cell_type": "markdown",
   "metadata": {},
   "source": [
    "# Full example - Helper functions above"
   ]
  },
  {
   "cell_type": "markdown",
   "metadata": {},
   "source": [
    "\n"
   ]
  },
  {
   "cell_type": "code",
   "execution_count": 98,
   "metadata": {},
   "outputs": [],
   "source": [
    "from ProcessOptimizer.space import Integer, Categorical, Real, Space\n",
    "import numpy as np\n",
    "\n",
    "space_design = Space(dimensions=[Real(10, 40, name='ul indicator'),\n",
    "            Real(20, 100, name='ul base'),\n",
    "            Real(20, 100, name='ul acid'),\n",
    "            Real(0, 50, name='ul water1'),\n",
    "            Real(0, 10, name='ul water2'),])\n",
    "                                 "
   ]
  },
  {
   "cell_type": "code",
   "execution_count": null,
   "metadata": {},
   "outputs": [],
   "source": []
  },
  {
   "cell_type": "code",
   "execution_count": null,
   "metadata": {},
   "outputs": [],
   "source": []
  },
  {
   "cell_type": "code",
   "execution_count": null,
   "metadata": {},
   "outputs": [],
   "source": []
  }
 ],
 "metadata": {
  "kernelspec": {
   "display_name": "Python 3",
   "language": "python",
   "name": "python3"
  },
  "language_info": {
   "codemirror_mode": {
    "name": "ipython",
    "version": 3
   },
   "file_extension": ".py",
   "mimetype": "text/x-python",
   "name": "python",
   "nbconvert_exporter": "python",
   "pygments_lexer": "ipython3",
   "version": "3.11.5"
  }
 },
 "nbformat": 4,
 "nbformat_minor": 2
}
