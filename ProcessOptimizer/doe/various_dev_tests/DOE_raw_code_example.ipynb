{
 "cells": [
  {
   "cell_type": "code",
   "execution_count": 224,
   "metadata": {},
   "outputs": [],
   "source": [
    "import patsy\n",
    "import numpy as np\n",
    "import ProcessOptimizer\n",
    "from ProcessOptimizer.space import Integer, Categorical, Real, Space\n",
    "import math"
   ]
  },
  {
   "cell_type": "code",
   "execution_count": 225,
   "metadata": {},
   "outputs": [
    {
     "name": "stdout",
     "output_type": "stream",
     "text": [
      "1.0.0\n"
     ]
    }
   ],
   "source": [
    "print(ProcessOptimizer.__version__)"
   ]
  },
  {
   "cell_type": "code",
   "execution_count": 226,
   "metadata": {},
   "outputs": [],
   "source": [
    "def hit_and_run(x0, constraint_matrix, bounds, n_samples, thin = 1):\n",
    "    \"\"\"A basic implementation of the hit and run sampler\n",
    "\n",
    "    :param x0: The starting value of sampler.\n",
    "    :param constraint_matrix: A matrix of constraints in the form Ax <= b.\n",
    "    :param bounds: A vector of bounds in the form Ax <= b.\n",
    "    :param n_samples: The numbers of samples to return.\n",
    "    :param thin: The thinning factor. Retain every 'thin' sample (e.g. if thin = 2, retain every 2nd sample)\n",
    "\n",
    "    This function is from https://github.com/statease/dexpy\n",
    "    Copyright 2016 Stat-Ease, Inc.\n",
    "    License: Apache License, Version 2.0\n",
    "    License link: https://github.com/statease/dexpy/blob/master/LICENSE\n",
    "    \"\"\"\n",
    "    x = np.copy(x0)\n",
    "    p = len(x)\n",
    "\n",
    "    out_samples = np.zeros((n_samples, p))\n",
    "\n",
    "    for i in range(0, n_samples):\n",
    "        thin_count = 0\n",
    "\n",
    "        while thin_count < thin:\n",
    "            thin_count = thin_count + 1\n",
    "\n",
    "            random_dir = np.random.normal(0.0, 1.0, p)\n",
    "            random_dir = random_dir / np.linalg.norm(random_dir)\n",
    "\n",
    "            denom = constraint_matrix.dot(random_dir)\n",
    "            intersections = (bounds - constraint_matrix.dot(x)) / denom\n",
    "            t_low  = np.max(intersections[denom < 0])\n",
    "            t_high  = np.min(intersections[denom > 0])\n",
    "\n",
    "            u = np.random.uniform(0, 1)\n",
    "            random_distance = t_low + u * (t_high - t_low)\n",
    "            x_new = x + random_distance * random_dir\n",
    "\n",
    "        out_samples[i, ] = x_new\n",
    "        x = x_new\n",
    "\n",
    "    return (out_samples)\n",
    "\n",
    "def own_bootstrap(factor_names, model, run_count):\n",
    "    \"\"\"Create a minimal starting design that is non-singular.\n",
    "    \n",
    "    \n",
    "    This function is modified from https://github.com/statease/dexpy\n",
    "    Copyright 2016 Stat-Ease, Inc.\n",
    "    License: Apache License, Version 2.0\n",
    "    License link: https://github.com/statease/dexpy/blob/master/LICENSE\n",
    "    \"\"\"\n",
    "    md = patsy.ModelDesc.from_formula(model)\n",
    "    model_size = len(md.rhs_termlist)\n",
    "    if run_count == 0:\n",
    "        run_count = model_size\n",
    "    if model_size > run_count:\n",
    "        raise ValueError(\"Can't build a design of size {} \"\n",
    "                         \"for a model of rank {}. \"\n",
    "                         \"Model: '{}'\".format(run_count, model_size, model))\n",
    "\n",
    "    factor_count = len(factor_names)\n",
    "    x0 = np.zeros(factor_count)\n",
    "    # add high/low bounds to constraint matrix\n",
    "    constraint_matrix = np.zeros((factor_count * 2, factor_count))\n",
    "    bounds = np.zeros(factor_count * 2)\n",
    "    c = 0\n",
    "    for f in range(factor_count):\n",
    "        constraint_matrix[c][f] = -1\n",
    "        bounds[c] = 1\n",
    "        c += 1\n",
    "        constraint_matrix[c][f] = 1\n",
    "        bounds[c] = 1\n",
    "        c += 1\n",
    "\n",
    "    start_points = hit_and_run(x0, constraint_matrix, bounds, run_count)\n",
    "\n",
    "    d = start_points\n",
    "\n",
    "    d_dict = {}\n",
    "    for i in range(0, factor_count):\n",
    "        d_dict[factor_names[i]] = start_points[:,i]\n",
    "\n",
    "    X = patsy.dmatrix(model, d_dict, return_type='matrix')\n",
    "\n",
    "    return (d, X)"
   ]
  },
  {
   "cell_type": "code",
   "execution_count": 227,
   "metadata": {},
   "outputs": [],
   "source": [
    "def update(XtXi, new_point, old_point):\n",
    "    \"\"\"rank-2 update of the variance-covariance matrix\n",
    "\n",
    "    Equation (6) from Meyer and Nachtsheim :cite:`MeyerNachtsheim1995`.\n",
    "\n",
    "    This function is from https://github.com/statease/dexpy\n",
    "    Copyright 2016 Stat-Ease, Inc.\n",
    "    License: Apache License, Version 2.0\n",
    "    License link: https://github.com/statease/dexpy/blob/master/LICENSE\n",
    "    \"\"\"\n",
    "    F2 = np.vstack((new_point, old_point))\n",
    "    F1 = F2.T.copy()\n",
    "    F1[:,1] *= -1\n",
    "    FD = np.dot(F2, XtXi)\n",
    "    I2x2 = np.identity(2) + np.dot(FD, F1)\n",
    "    Inverse2x2 = np.linalg.inv(I2x2)\n",
    "    F2x2FD = np.dot(np.dot(F1, Inverse2x2), FD)\n",
    "    return XtXi - np.dot(XtXi, F2x2FD)\n",
    "\n",
    "def expand_point(design_point, code):\n",
    "    \"\"\"Converts a point in factor space to conform with the X matrix.\n",
    "    \n",
    "    This function is from https://github.com/statease/dexpy\n",
    "    Copyright 2016 Stat-Ease, Inc.\n",
    "    License: Apache License, Version 2.0\n",
    "    License link: https://github.com/statease/dexpy/blob/master/LICENSE\n",
    "    \"\"\"\n",
    "    return np.array(eval(code, {}, design_point))\n",
    "\n",
    "def delta(X, XtXi, row, new_point):\n",
    "    \"\"\"Calculates the change in D-optimality from exchanging a point.\n",
    "\n",
    "    This is equation (1) in Meyer and Nachtsheim :cite:`MeyerNachtsheim1995`.\n",
    "\n",
    "    This function is from https://github.com/statease/dexpy\n",
    "    Copyright 2016 Stat-Ease, Inc.\n",
    "    License: Apache License, Version 2.0\n",
    "    License link: https://github.com/statease/dexpy/blob/master/LICENSE\n",
    "    \"\"\"\n",
    "    old_point = X[row]\n",
    "\n",
    "    added_variance = np.dot(new_point, np.dot(XtXi, new_point.T))\n",
    "    removed_variance = np.dot(old_point, np.dot(XtXi, old_point.T))\n",
    "    covariance = np.dot(new_point, np.dot(XtXi, old_point.T))\n",
    "    return (\n",
    "        1 + (added_variance - removed_variance) +\n",
    "            (covariance * covariance - added_variance * removed_variance)\n",
    "    )\n"
   ]
  },
  {
   "cell_type": "code",
   "execution_count": 228,
   "metadata": {},
   "outputs": [],
   "source": [
    "def make_model_own(factor_names, model_order, include_powers = True):\n",
    "    \"\"\"Creates patsy formula representing a given model order.\"\"\"\n",
    "    if model_order == 1:\n",
    "        return \"+\".join(factor_names)\n",
    "    \n",
    "    elif model_order == 2:\n",
    "        interaction_model = \"({})**2\".format(\"+\".join(factor_names))\n",
    "        if not include_powers:\n",
    "            return interaction_model\n",
    "        squared_terms = \"pow({}, 2)\".format(\",2)+pow(\".join(factor_names))\n",
    "        return \"{}+{}\".format(interaction_model, squared_terms)\n",
    "\n",
    "    elif model_order == 3:\n",
    "        interaction_model = \"({})**3\".format(\"+\".join(factor_names))\n",
    "        if not include_powers:\n",
    "            return interaction_model\n",
    "        squared_terms = \"pow({}, 2)\".format(\",2)+pow(\".join(factor_names))\n",
    "        cubed_terms = \"pow({}, 3)\".format(\",3)+pow(\".join(factor_names))\n",
    "        return \"+\".join([interaction_model, squared_terms, cubed_terms])\n",
    "    \n",
    "    else:\n",
    "        raise Warning(\"Model order not supported\")\n",
    "\n",
    "    #return \"+\".join(factor_names)"
   ]
  },
  {
   "cell_type": "code",
   "execution_count": 229,
   "metadata": {},
   "outputs": [],
   "source": [
    "def build_optimal_no_pandas(factor_names, **kwargs):\n",
    "    r\"\"\"Builds an optimal design.\n",
    "\n",
    "    This uses the Coordinate-Exchange algorithm from Meyer and Nachtsheim 1995\n",
    "    :cite:`MeyerNachtsheim1995`.\n",
    "\n",
    "    :param factor_names: The names of the factors in the design.\n",
    "    :type factor_names: list of str\n",
    "\n",
    "    :Keyword Arguments:\n",
    "        * **order** (:class:`ModelOrder <dexpy.model.ModelOrder>`) -- \\\n",
    "            Builds a design for this order model. \\\n",
    "            Mutually exclusive with the **model** parameter.\n",
    "        * **model** (`patsy formula <https://patsy.readthedocs.io>`_) -- \\\n",
    "            Builds a design for this model formula. \\\n",
    "            Mutually exclusive with the **order** parameter.\n",
    "        * **run_count** (`integer`) -- \\\n",
    "            The number of runs to use in the design. This must be equal\\\n",
    "            to or greater than the rank of the model.\n",
    "\n",
    "    _______________________________________________________\n",
    "\n",
    "    This function is adapted from https://github.com/statease/dexpy\n",
    "    Copyright 2016 Stat-Ease, Inc.\n",
    "    License: Apache License, Version 2.0\n",
    "    License link: https://github.com/statease/dexpy/blob/master/LICENSE\n",
    "    \"\"\"\n",
    "\n",
    "    factor_count = len(factor_names)\n",
    "    model = kwargs.get('model', None)\n",
    "\n",
    "    if model is None:\n",
    "        order = kwargs.get('order', 2)\n",
    "        model = make_model_own(factor_names, order)\n",
    "\n",
    "    run_count = kwargs.get('run_count', 0)\n",
    "\n",
    "    # first generate a valid starting design\n",
    "    (design, X) = own_bootstrap(factor_names, model, run_count)\n",
    "\n",
    "    # Enable conversion between design points and X matrix\n",
    "    functions = []\n",
    "    for _, subterms in X.design_info.term_codings.items():\n",
    "        sub_funcs = []\n",
    "        for subterm in subterms:\n",
    "            for factor in subterm.factors:\n",
    "                eval_code = X.design_info.factor_infos[factor].state['eval_code']\n",
    "                if eval_code[0] == 'I':\n",
    "                    eval_code = eval_code[1:]\n",
    "                sub_funcs.append(eval_code)\n",
    "        if not sub_funcs:\n",
    "            functions.append(\"1\") # intercept\n",
    "        else:\n",
    "            functions.append(\"*\".join(sub_funcs))\n",
    "\n",
    "    full_func = \"[\" + \",\".join(functions) + \"]\"\n",
    "    code = compile(full_func, \"<string>\", \"eval\")\n",
    "\n",
    "    # set up the algorithm parameters\n",
    "    steps = 12\n",
    "    low = -1\n",
    "    high = 1\n",
    "\n",
    "    XtXi = np.linalg.inv(np.dot(np.transpose(X), X))\n",
    "    (_, d_optimality) = np.linalg.slogdet(XtXi)\n",
    "\n",
    "    design_improved = True\n",
    "    swaps = 0\n",
    "    evals = 0\n",
    "    min_change = 1.0 + np.finfo(float).eps\n",
    "    while design_improved:\n",
    "        design_improved = False\n",
    "        for i in range(0, len(design)):\n",
    "            design_point = {}\n",
    "            for ii in range(0, factor_count):\n",
    "                design_point[factor_names[ii]] = design[i, ii]\n",
    "            for index_factor, f in enumerate(factor_names):\n",
    "                original_value = design_point[f]\n",
    "                original_expanded = X[i]\n",
    "                best_step = -1\n",
    "                best_point = []\n",
    "                best_change = min_change\n",
    "\n",
    "                for s in range(0, steps):\n",
    "\n",
    "                    design_point[f] = low + ((high - low) / (steps - 1)) * s\n",
    "                    new_point = expand_point(design_point, code)\n",
    " \n",
    "                    change_in_d = delta(X, XtXi, i, new_point)\n",
    "                    evals += 1\n",
    "\n",
    "                    if change_in_d - best_change > np.finfo(float).eps:\n",
    "                        best_point = new_point\n",
    "                        best_step = s\n",
    "                        best_change = change_in_d\n",
    "\n",
    "                if best_step >= 0:\n",
    "                    # update X with the best point\n",
    "                    design_point[f] = low + ((high - low) / (steps - 1)) * best_step\n",
    "                    design[i, index_factor] = design_point[f]\n",
    "                    XtXi = update(XtXi, best_point, X[i])\n",
    "                    X[i] = best_point\n",
    "\n",
    "                    d_optimality -= math.log(best_change)\n",
    "                    design_improved = True\n",
    "                    swaps += 1\n",
    "\n",
    "                else:\n",
    "                    # restore the original design point value\n",
    "                    design_point[f] = original_value\n",
    "                    X[i] = original_expanded\n",
    "\n",
    "    return design"
   ]
  },
  {
   "cell_type": "code",
   "execution_count": 230,
   "metadata": {},
   "outputs": [
    {
     "name": "stdout",
     "output_type": "stream",
     "text": [
      "[[ 1.          1.         -1.        ]\n",
      " [ 0.09090909  1.          1.        ]\n",
      " [-1.         -1.         -1.        ]\n",
      " [-1.         -1.          1.        ]\n",
      " [ 1.         -1.         -1.        ]\n",
      " [-1.          1.          1.        ]\n",
      " [ 1.         -1.          1.        ]\n",
      " [ 1.          0.09090909  1.        ]\n",
      " [ 1.          1.          0.09090909]\n",
      " [-1.          1.         -1.        ]\n",
      " [-0.09090909 -0.09090909 -0.09090909]]\n"
     ]
    }
   ],
   "source": [
    "reaction_design = build_optimal_no_pandas(['a', 'b', 'c'], run_count=11, order=2)\n",
    "print(reaction_design)"
   ]
  },
  {
   "cell_type": "code",
   "execution_count": 231,
   "metadata": {},
   "outputs": [
    {
     "name": "stdout",
     "output_type": "stream",
     "text": [
      "[[ 1. -1.  1.]\n",
      " [-1. -1.  1.]\n",
      " [ 1.  1.  1.]\n",
      " [-1.  1.  1.]\n",
      " [ 1. -1. -1.]]\n"
     ]
    }
   ],
   "source": [
    "reaction_design2 = build_optimal_no_pandas(['a', 'b', 'c'], run_count=5, model='a+b+c+a:b')\n",
    "print(reaction_design2)"
   ]
  },
  {
   "cell_type": "code",
   "execution_count": 232,
   "metadata": {},
   "outputs": [],
   "source": [
    "space_design = Space(dimensions=[Integer(10, 40, name='ul indicator'),\n",
    "         Real(20, 100, name='ul base'),\n",
    "         #Integer(20, 100, name='ul acid'),\n",
    "         #Integer(0, 50, name='ul water1'),\n",
    "         #Integer(0, 10, name='ul water2'),\n",
    "         Categorical([\"boric and citric\", \"citric only\", \"third\"], name='buffer'),\n",
    "         ])"
   ]
  },
  {
   "cell_type": "code",
   "execution_count": 233,
   "metadata": {},
   "outputs": [
    {
     "name": "stdout",
     "output_type": "stream",
     "text": [
      "Space([Integer(low=10, high=40),\n",
      "       Real(low=20, high=100, prior='uniform', transform='normalize'),\n",
      "       Categorical(categories=('boric and citric', 'citric only', 'third'), prior=None)])\n"
     ]
    },
    {
     "data": {
      "text/plain": [
       "array([[0.5   , 0.4125, 0.    , 0.    , 1.    ]])"
      ]
     },
     "execution_count": 233,
     "metadata": {},
     "output_type": "execute_result"
    }
   ],
   "source": [
    "space = ProcessOptimizer.space.normalize_dimensions(space_design)\n",
    "print(space)\n",
    "\n",
    "\n",
    "space.transform([[25,53,'third']])\n",
    "\n",
    "#transformed_point = space_design.transform()"
   ]
  },
  {
   "cell_type": "markdown",
   "metadata": {},
   "source": [
    "# INITIALLY I WILL NOT SUPPORT CATEGORICAL VARIABLES\n",
    "# AT LEAST NOT IN A GOOD WAY\n",
    "It would have to be brute forcing the combinations of the categorical variables.\n",
    "That is doable, but I will not do it for now."
   ]
  },
  {
   "cell_type": "code",
   "execution_count": 234,
   "metadata": {},
   "outputs": [
    {
     "name": "stdout",
     "output_type": "stream",
     "text": [
      "[[ 1.          1.         -1.        ]\n",
      " [ 0.09090909  1.          1.        ]\n",
      " [-1.         -1.         -1.        ]\n",
      " [-1.         -1.          1.        ]\n",
      " [ 1.         -1.         -1.        ]\n",
      " [-1.          1.          1.        ]\n",
      " [ 1.         -1.          1.        ]\n",
      " [ 1.          0.09090909  1.        ]\n",
      " [ 1.          1.          0.09090909]\n",
      " [-1.          1.         -1.        ]\n",
      " [-0.09090909 -0.09090909 -0.09090909]]\n",
      "[[1.         1.         0.        ]\n",
      " [0.54545455 1.         1.        ]\n",
      " [0.         0.         0.        ]\n",
      " [0.         0.         1.        ]\n",
      " [1.         0.         0.        ]\n",
      " [0.         1.         1.        ]\n",
      " [1.         0.         1.        ]\n",
      " [1.         0.54545455 1.        ]\n",
      " [1.         1.         0.54545455]\n",
      " [0.         1.         0.        ]\n",
      " [0.45454545 0.45454545 0.45454545]]\n"
     ]
    }
   ],
   "source": [
    "from sklearn.preprocessing import MinMaxScaler\n",
    "scaler = MinMaxScaler(feature_range=(0, 1))\n",
    "\n",
    "\n",
    "transformed_array = scaler.fit_transform(reaction_design)\n",
    "print(reaction_design)\n",
    "print(transformed_array)\n",
    "#\n",
    "\n",
    "#design_points = space.inverse_transform(np.asarray(reaction_design))\n",
    "#print(design_points)"
   ]
  },
  {
   "cell_type": "code",
   "execution_count": null,
   "metadata": {},
   "outputs": [],
   "source": []
  },
  {
   "cell_type": "code",
   "execution_count": 235,
   "metadata": {},
   "outputs": [
    {
     "data": {
      "text/plain": [
       "[[40, 100.0, 'boric and citric'],\n",
       " [26, 100.0, 'boric and citric'],\n",
       " [10, 20.0, 'boric and citric'],\n",
       " [10, 20.0, 'boric and citric'],\n",
       " [40, 20.0, 'boric and citric'],\n",
       " [10, 100.0, 'boric and citric'],\n",
       " [40, 20.0, 'boric and citric'],\n",
       " [40, 63.63636363636363, 'boric and citric'],\n",
       " [40, 100.0, 'boric and citric'],\n",
       " [10, 100.0, 'boric and citric'],\n",
       " [24, 56.36363636363637, 'boric and citric']]"
      ]
     },
     "execution_count": 235,
     "metadata": {},
     "output_type": "execute_result"
    }
   ],
   "source": [
    "design_points = space.inverse_transform(np.asarray(transformed_array))\n",
    "design_points"
   ]
  },
  {
   "cell_type": "code",
   "execution_count": 236,
   "metadata": {},
   "outputs": [
    {
     "data": {
      "text/plain": [
       "['ul indicator', 'ul base', 'buffer']"
      ]
     },
     "execution_count": 236,
     "metadata": {},
     "output_type": "execute_result"
    }
   ],
   "source": [
    "space_design = Space(dimensions=[Integer(10, 40, name='ul indicator'),\n",
    "         Real(20, 100, name='ul base'),\n",
    "         #Integer(0, 50, name='ul water1'),\n",
    "         #Integer(0, 10, name='ul water2'),\n",
    "         Categorical([\"boric and citric\", \"citric only\", \"third\"], name='buffer'),\n",
    "         ])\n",
    "\n",
    "space_design.names"
   ]
  },
  {
   "cell_type": "code",
   "execution_count": 237,
   "metadata": {},
   "outputs": [
    {
     "data": {
      "text/plain": [
       "['$X_{0}$', '$X_{1}$']"
      ]
     },
     "execution_count": 237,
     "metadata": {},
     "output_type": "execute_result"
    }
   ],
   "source": [
    "space_design = Space(dimensions=[Integer(10, 40),\n",
    "         Real(20, 100),\n",
    "         #Integer(0, 50, name='ul water1'),\n",
    "         #Integer(0, 10, name='ul water2'),\n",
    "         #Categorical([\"boric and citric\", \"citric only\", \"third\"]),\n",
    "         ])\n",
    "\n",
    "space_design.names"
   ]
  },
  {
   "cell_type": "code",
   "execution_count": 238,
   "metadata": {},
   "outputs": [
    {
     "data": {
      "text/plain": [
       "Space([Integer(low=10, high=40),\n",
       "       Real(low=20, high=100, prior='uniform', transform='identity')])"
      ]
     },
     "execution_count": 238,
     "metadata": {},
     "output_type": "execute_result"
    }
   ],
   "source": [
    "from ProcessOptimizer.space import Integer, Real, Space\n",
    "factor_space = Space(dimensions=[Integer(10, 40, name='ul_indicator'),\n",
    "                                     Real(20, 100, name='ul_base'),\n",
    "                                     ])\n",
    "\n",
    "factor_space"
   ]
  },
  {
   "cell_type": "code",
   "execution_count": 239,
   "metadata": {},
   "outputs": [],
   "source": [
    "from ProcessOptimizer.space import normalize_dimensions"
   ]
  },
  {
   "cell_type": "markdown",
   "metadata": {},
   "source": [
    "# Here starts development of wrapper that takes space as input to and returns a design. "
   ]
  },
  {
   "cell_type": "code",
   "execution_count": 257,
   "metadata": {},
   "outputs": [],
   "source": [
    "def doe_to_real_space(design, factor_space):\n",
    "    \"\"\"\n",
    "    Transform the design into real space\n",
    "\n",
    "    Parameters:\n",
    "    -----------\n",
    "    design: np.array\n",
    "        The design to transform.\n",
    "    space: Space object from ProcessOptimizer\n",
    "        The space object used to transform the design.\n",
    "\n",
    "    Returns:\n",
    "    --------\n",
    "    design_points_real_space: np.array\n",
    "        The design points in real space.\n",
    "    \"\"\"\n",
    "    from sklearn.preprocessing import MinMaxScaler\n",
    "\n",
    "    from ProcessOptimizer.space import normalize_dimensions\n",
    "    \n",
    "\n",
    "    # This ensure that the transformation works no matter how the design is expressed\n",
    "    # E.g., with values from 0 to 1 or from -1 to 1. \n",
    "    # This also means that you cannot effectively make a circumscribed central composite design\n",
    "    # It will be transformed into an inscribed central composite design\n",
    "    scaler = MinMaxScaler(feature_range=(0, 1))\n",
    "    transformed_design = scaler.fit_transform(design)\n",
    "\n",
    "    space_transform = normalize_dimensions(factor_space)\n",
    "    design_points_real_space = space_transform.inverse_transform(np.asarray(transformed_design))\n",
    "    return design_points_real_space"
   ]
  },
  {
   "cell_type": "code",
   "execution_count": 261,
   "metadata": {},
   "outputs": [],
   "source": [
    "def get_DOE(factor_space, budget, design_type=None, model=None):\n",
    "    \"\"\"\n",
    "    A function that returns the d-optimal design of experiments\n",
    "    It is non-deterministic and returns a new and perhaps different design each time it is called\n",
    "\n",
    "    Inputs:\n",
    "\n",
    "    :param factor_space: The space of the factors\n",
    "    :type factor_space: dict\n",
    "    Generated from the Space class in the ProcessOptimizer library\n",
    "\n",
    "    :param budget: The number of runs in the design\n",
    "    :type budget: int\n",
    "    Must be at least the number of factors in the model\n",
    "\n",
    "    :param design_type: The design_type of design to create.\n",
    "    :type design_type: str\n",
    "    :options: 'screening', 'response', 'optimization'\n",
    "    Mutually exclusive with the model parameter\n",
    "\n",
    "    :param model: The model to use for the design. The default is None\n",
    "    :type model: str in patsy formula format\n",
    "    Mutually exclusive with the design_type parameter\n",
    "    Used if you want to have some hand-curated contributions in the model\n",
    "        e.g., a specific cross interaction between two factors\n",
    "\n",
    "    Outputs:\n",
    "\n",
    "    :return: A design of experiments in real space\n",
    "    :rtype: np.array\n",
    "\n",
    "    Example:\n",
    "\n",
    "    from ProcessOptimizer.space import Integer, Real, Space\n",
    "    factor_space = Space(dimensions=[Real(10, 40, name='ul_indicator'),\n",
    "                                     Integer(20, 100, name='ul_base'),\n",
    "                                     Integer(20, 100, name='ul_acid'),\n",
    "                                     ])\n",
    "\n",
    "    get_DOE(factor_space, 10, design_type='response')\n",
    "    \"\"\"\n",
    "    from sklearn.preprocessing import MinMaxScaler\n",
    "    import warnings\n",
    "\n",
    "    # Checking inputs - making sure that factor names are valid for use it patsy\n",
    "    factor_names = factor_space.names\n",
    "    chars_to_replace_with_underscore = [\" \", \"-\", \"+\", \"*\", \"/\", \":\", \"^\", \"=\", \"~\"]\n",
    "    chars_to_remove = [\"$\", \"(\", \")\", \"[\", \"]\", \"{\", \"}\"]\n",
    "\n",
    "    for i, name in enumerate(factor_names):\n",
    "        for symbol in chars_to_replace_with_underscore:\n",
    "            if symbol in name:\n",
    "                warnings.warn(\n",
    "                    \"Warning: Factor names should not contain spaces or matematical signs. Replacing with underscore\"\n",
    "                )\n",
    "                factor_names[i] = name.replace(symbol, \"_\")\n",
    "                name = factor_names[i]\n",
    "        for symbol_rm in chars_to_remove:\n",
    "            if symbol_rm in name:\n",
    "                factor_names[i] = name.replace(symbol_rm, \"\")\n",
    "                name = factor_names[i]\n",
    "\n",
    "    if design_type is not None and model is not None:\n",
    "        raise ValueError(\n",
    "            \"design_type and model are mutually exclusive. Please choose one or the other\"\n",
    "        )\n",
    "\n",
    "    supported_design_types = [\"screening\", \"response\", \"optimization\"]\n",
    "    model_orders = [1, 2, 3]\n",
    "    if design_type is not None and design_type not in supported_design_types:\n",
    "        raise ValueError(\"design_type must be one of {}\".format(supported_design_types))\n",
    "\n",
    "    # Determine the order of the model\n",
    "    if design_type is not None:\n",
    "        design_model_orders = dict(zip(supported_design_types, model_orders))\n",
    "        order = design_model_orders[design_type]\n",
    "\n",
    "    # Build the optimal design\n",
    "    design = build_optimal_no_pandas(\n",
    "        factor_names, run_count=budget, order=order, model=model\n",
    "    )\n",
    "\n",
    "    # Transform the design into real space\n",
    "    design_points_real_space = doe_to_real_space(design, factor_space)\n",
    "\n",
    "    return (design_points_real_space, factor_names)"
   ]
  },
  {
   "cell_type": "markdown",
   "metadata": {},
   "source": [
    "# Test of the wrapper get_DOE function"
   ]
  },
  {
   "cell_type": "code",
   "execution_count": 262,
   "metadata": {},
   "outputs": [],
   "source": [
    "from ProcessOptimizer.space import Integer, Real, Space\n",
    "factor_space = Space(dimensions=[Integer(10, 40, name='ul indicator'),\n",
    "                                 #Integer(20, 100, name='ul_base'),\n",
    "                                 Integer(20, 100),\n",
    "                                 Integer(20, 100, name='ul_acid'),\n",
    "                                 ])\n"
   ]
  },
  {
   "cell_type": "code",
   "execution_count": 263,
   "metadata": {},
   "outputs": [
    {
     "name": "stderr",
     "output_type": "stream",
     "text": [
      "C:\\Users\\RUCT\\AppData\\Local\\Temp\\ipykernel_5564\\4108588958.py:53: UserWarning: Warning: Factor names should not contain spaces or matematical signs. Replacing with underscore\n",
      "  warnings.warn(\"Warning: Factor names should not contain spaces or matematical signs. Replacing with underscore\")\n"
     ]
    },
    {
     "data": {
      "text/plain": [
       "(['ul_indicator', 'X_1', 'ul_acid'],\n",
       " [[10, 100, 20],\n",
       "  [10, 20, 100],\n",
       "  [10, 71, 71],\n",
       "  [10, 20, 20],\n",
       "  [21, 100, 100],\n",
       "  [40, 100, 49],\n",
       "  [26, 20, 64],\n",
       "  [40, 42, 100],\n",
       "  [40, 20, 20],\n",
       "  [29, 71, 20]])"
      ]
     },
     "execution_count": 263,
     "metadata": {},
     "output_type": "execute_result"
    }
   ],
   "source": [
    "get_DOE(factor_space, 10, design_type='response')"
   ]
  },
  {
   "cell_type": "code",
   "execution_count": null,
   "metadata": {},
   "outputs": [],
   "source": []
  },
  {
   "cell_type": "code",
   "execution_count": null,
   "metadata": {},
   "outputs": [],
   "source": []
  }
 ],
 "metadata": {
  "kernelspec": {
   "display_name": "Python 3",
   "language": "python",
   "name": "python3"
  },
  "language_info": {
   "codemirror_mode": {
    "name": "ipython",
    "version": 3
   },
   "file_extension": ".py",
   "mimetype": "text/x-python",
   "name": "python",
   "nbconvert_exporter": "python",
   "pygments_lexer": "ipython3",
   "version": "3.11.5"
  }
 },
 "nbformat": 4,
 "nbformat_minor": 2
}
